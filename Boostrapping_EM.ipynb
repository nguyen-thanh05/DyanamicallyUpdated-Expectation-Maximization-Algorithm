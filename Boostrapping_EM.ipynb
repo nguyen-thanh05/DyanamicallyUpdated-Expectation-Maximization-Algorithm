{
 "cells": [
  {
   "cell_type": "code",
   "execution_count": 84,
   "metadata": {},
   "outputs": [],
   "source": [
    "import numpy as np\n",
    "import matplotlib.pyplot as plt\n",
    "import tqdm as tqdm\n",
    "import math"
   ]
  },
  {
   "attachments": {},
   "cell_type": "markdown",
   "metadata": {},
   "source": [
    "# Step 1: Generate the data \n",
    "I'm aiming to generate 20000 datapoints from a Gaussian mixture model of k = 100 components. For simplicity, each datapoint is a scalar (1-dimension). \n",
    "To make it more realistic, I will random the weight of each component."
   ]
  },
  {
   "cell_type": "code",
   "execution_count": 85,
   "metadata": {},
   "outputs": [],
   "source": [
    "n = 50000 # Number of datapoints\n",
    "k = 20 # Number of components\n",
    "\n",
    "# Randomising the weights\n",
    "weights = np.random.random(size=(k, ))\n",
    "weights = weights / np.sum(weights) \n",
    "assert abs(np.sum(weights) - 1) < 0.0000001 # Ensuring a convex linear combination\n",
    "\n",
    "# Decide which component we will sample from\n",
    "mixture_index = np.random.choice(k, size = n, replace = True, p = weights)\n",
    "assert mixture_index.shape == (n, )\n",
    "\n",
    "# Decide the random mean and variance of all 100 components\n",
    "mean = np.random.uniform(low=-20.0, high=20.0, size=(k, ))\n",
    "variance = np.random.uniform(low=0, high=2.0, size=(k, ))\n"
   ]
  },
  {
   "cell_type": "code",
   "execution_count": 86,
   "metadata": {},
   "outputs": [],
   "source": [
    "# Generate data using numpy for efficiency\n",
    "data = np.fromiter((np.random.normal(loc = mean[index], scale = np.sqrt([variance[index]])[0]) for index in mixture_index), float)\n",
    "assert data.shape == (n, )"
   ]
  },
  {
   "cell_type": "code",
   "execution_count": 87,
   "metadata": {},
   "outputs": [
    {
     "data": {
      "image/png": "[encoded data removed]",
      "text/plain": [
       "<Figure size 432x288 with 1 Axes>"
      ]
     },
     "metadata": {
      "needs_background": "light"
     },
     "output_type": "display_data"
    }
   ],
   "source": [
    "plt.hist(data, bins=\"auto\", density=True)\n",
    "plt.xlabel(\"x\")\n",
    "plt.ylabel(\"f(x)\")\n",
    "plt.show()"
   ]
  },
  {
   "attachments": {},
   "cell_type": "markdown",
   "metadata": {},
   "source": [
    "# Step 2: The traditional EM algorithm\n",
    "The algorithm includes finding the probability of each point belonging to each component, then tune the mean and variance of each component according the the calculated probabilities. "
   ]
  },
  {
   "cell_type": "code",
   "execution_count": 88,
   "metadata": {},
   "outputs": [],
   "source": [
    "# First, define a way to calculate pdf \n",
    "def pdf(x, mean, var):\n",
    "    assert var >= 0\n",
    "    return math.exp(-0.5 * ((x - mean) ** 2 ) / var) / (math.sqrt(2 * math.pi * var))\n",
    "\n",
    "# Test the function\n",
    "assert pdf(0, 0, 1) == 0.3989422804014327\n",
    "assert pdf(0.5, 0, 1) == 0.3520653267642995\n"
   ]
  },
  {
   "cell_type": "code",
   "execution_count": 89,
   "metadata": {},
   "outputs": [],
   "source": [
    "# Define a metric to evaluate our return from EM alg.\n",
    "# KL divergence is an integral from -inf to +inf, in this case, I only use the n datapoints that we already generated.\n",
    "def KL_div(pred_mean, pred_var, pred_weights):\n",
    "    KL_divergence = 0\n",
    "    for i in range(n):\n",
    "        P_value = 0\n",
    "        Q_value = 0\n",
    "        for j in range(k):\n",
    "            Q_value += pred_weights[j] * pdf(data[i], pred_mean[j], pred_var[j])\n",
    "            P_value += weights[j] * pdf(data[i], mean[j], variance[j])\n",
    "        KL_divergence += P_value * math.log(P_value/Q_value, math.e) \n",
    "    \n",
    "    return KL_divergence\n",
    "assert KL_div(mean, variance, weights) == 0"
   ]
  },
  {
   "cell_type": "code",
   "execution_count": 91,
   "metadata": {},
   "outputs": [
    {
     "name": "stdout",
     "output_type": "stream",
     "text": [
      "kl div: 9626.561061547314\n",
      "kl div: 802.2360026898185\n",
      "kl div: 728.8721952829864\n",
      "kl div: 686.83608491465\n",
      "kl div: 659.1041483066837\n",
      "kl div: 636.7145822582945\n",
      "kl div: 609.1666940485426\n",
      "kl div: 564.6694646549954\n",
      "kl div: 499.5677355859708\n",
      "kl div: 429.1641691084859\n",
      "kl div: 371.71037814501574\n",
      "kl div: 331.5723148741771\n",
      "kl div: 305.9590388928763\n",
      "kl div: 290.51105970871373\n",
      "kl div: 281.43410518384684\n",
      "kl div: 276.03163766448074\n",
      "kl div: 272.621928996262\n",
      "kl div: 270.25729715301543\n",
      "kl div: 268.43329567400644\n",
      "kl div: 266.88198213564436\n",
      "kl div: 265.4516381854895\n",
      "kl div: 264.04329878418076\n",
      "kl div: 262.57786245499017\n",
      "kl div: 260.9777738731951\n",
      "kl div: 259.1549369926828\n",
      "kl div: 257.0010657191918\n",
      "kl div: 254.37947992929423\n",
      "kl div: 251.11980618662832\n",
      "kl div: 247.02051961005714\n",
      "kl div: 241.87024155518145\n",
      "kl div: 235.50687662007465\n",
      "kl div: 227.9339288824112\n",
      "kl div: 219.47429716746768\n",
      "kl div: 210.83912893425943\n",
      "kl div: 202.9340898939607\n",
      "kl div: 196.4491035655143\n",
      "kl div: 191.59122037115478\n",
      "kl div: 188.16485535469576\n",
      "kl div: 185.81150254748528\n",
      "kl div: 184.1842535839494\n",
      "kl div: 183.01272880453374\n",
      "kl div: 182.10544458607572\n",
      "kl div: 181.33238194908415\n",
      "kl div: 180.60711602253227\n",
      "kl div: 179.87370234986972\n",
      "kl div: 179.0980553664721\n",
      "kl div: 178.26219180200073\n",
      "kl div: 177.35985965433292\n",
      "kl div: 176.3926884029163\n",
      "kl div: 175.366625194447\n",
      "kl div: 174.28881794993546\n",
      "kl div: 173.1651894433237\n",
      "kl div: 171.99879784112503\n",
      "kl div: 170.78885887367372\n",
      "kl div: 169.53014399792565\n",
      "kl div: 168.21241216905815\n",
      "kl div: 166.81954391029953\n",
      "kl div: 165.32804916605136\n",
      "kl div: 163.70453371666412\n",
      "kl div: 161.90144536899479\n",
      "kl div: 159.8498390720515\n",
      "kl div: 157.44669389727792\n",
      "kl div: 154.53179982369102\n",
      "kl div: 150.8440156621127\n",
      "kl div: 145.93712089252847\n",
      "kl div: 139.0293600573848\n",
      "kl div: 128.85040229126875\n",
      "kl div: 114.20922933053089\n",
      "kl div: 97.29746341432892\n",
      "kl div: 85.7755822792226\n",
      "kl div: 81.76427354884777\n",
      "kl div: 80.36542067516409\n",
      "kl div: 79.36609053431295\n",
      "kl div: 78.48469722656802\n",
      "kl div: 77.71216630576038\n",
      "kl div: 77.03136687005357\n",
      "kl div: 76.41569404870826\n",
      "kl div: 75.84106286710576\n",
      "kl div: 75.28915258968584\n",
      "kl div: 74.74670300165728\n",
      "kl div: 74.20401418249384\n",
      "kl div: 73.6536565848924\n",
      "kl div: 73.0895526812227\n",
      "kl div: 72.50636520545201\n",
      "kl div: 71.89910359710916\n",
      "kl div: 71.26288486040002\n",
      "kl div: 70.59281273203263\n",
      "kl div: 69.88396100736139\n",
      "kl div: 69.13146368596685\n",
      "kl div: 68.33072778335779\n",
      "kl div: 67.47779417684382\n",
      "kl div: 66.56987515600129\n",
      "kl div: 65.60608871753561\n",
      "kl div: 64.58838013246312\n",
      "kl div: 63.52256061825449\n",
      "kl div: 62.419295669139245\n",
      "kl div: 61.294754003441604\n",
      "kl div: 60.170528888231956\n",
      "kl div: 59.072454270667414\n",
      "kl div: 58.02815499517843\n",
      "kl div: 57.06361156034177\n",
      "kl div: 56.19953003239055\n",
      "kl div: 55.44857814851352\n",
      "kl div: 54.814328317743055\n",
      "kl div: 54.29209727458982\n",
      "kl div: 53.87116774168797\n",
      "kl div: 53.53751402922655\n",
      "kl div: 53.27624223111395\n",
      "kl div: 53.073313850211065\n",
      "kl div: 52.91648875339834\n",
      "kl div: 52.79564728402795\n",
      "kl div: 52.702719128854426\n",
      "kl div: 52.63141704880545\n",
      "kl div: 52.57690983387744\n",
      "kl div: 52.53550893869868\n",
      "kl div: 52.504401019567545\n",
      "kl div: 52.48143400525576\n",
      "kl div: 52.46495245630688\n",
      "kl div: 52.45367366949412\n",
      "kl div: 52.44659553819474\n",
      "kl div: 52.44292833997612\n",
      "kl div: 52.442044218300474\n",
      "[ -5.47781675  -7.88835228   6.98578488   0.57635389   3.07997461\n",
      "  -0.54873275   0.29170227   0.32962417   0.11759219   7.4489008\n",
      "  -0.67398594   0.12072854  -1.59101156   3.36970305   4.90179246\n",
      "   7.85526155 -11.3320822  -18.45358938   1.14890479  12.96234141] [ 1.01685323  0.21460035  8.42565307  2.06764912  0.58311085  0.26205619\n",
      "  2.58305158  2.24617451  3.00813835  0.131993    1.01742794  4.7179233\n",
      "  0.49087155  0.50116406 16.80650994  1.14513386  2.21667847  1.47258126\n",
      " 20.04914169  1.81984453] [0.15369008 0.0872431  0.0228295  0.02521343 0.02669174 0.01144592\n",
      " 0.03120387 0.01855241 0.01748995 0.04350799 0.03190652 0.02301385\n",
      " 0.02358956 0.00934837 0.0138958  0.06510601 0.10421429 0.09406436\n",
      " 0.00440023 0.19259302]\n",
      "[ 13.5825777   -0.69635254  -1.35732439  -4.99475388   7.43194663\n",
      "  19.12689429   5.7525546   11.96281371   3.08058028  15.49899318\n",
      " -11.33912146 -13.10213901   7.98688392 -18.56976386 -10.53090554\n",
      "  -7.94539307 -18.47439793  -5.96973168   0.90579915   9.16372773] [0.26473818 1.14300117 1.36242395 0.6633983  0.1097297  0.99644135\n",
      " 1.84095686 0.72380123 0.72190817 0.27523737 0.87116271 1.66968317\n",
      " 1.38320049 0.68563131 0.38925868 0.23247696 1.57168745 0.95547222\n",
      " 1.70215717 1.82141673] [8.60017177e-02 6.80964306e-02 4.94495565e-02 6.72574008e-02\n",
      " 4.36645095e-02 4.33475068e-05 1.23797787e-02 9.03050880e-02\n",
      " 4.91383691e-02 1.78347456e-02 4.06046466e-02 2.65144626e-02\n",
      " 7.92936657e-02 1.62405005e-02 3.10255964e-02 8.87528328e-02\n",
      " 7.58321442e-02 9.28358627e-02 6.42600717e-02 4.69272758e-04]\n"
     ]
    }
   ],
   "source": [
    "# This implementation is based on Dr. Martha White's notes for CMPUT367, page 107. \n",
    "\n",
    "def traditional_EM():\n",
    "    predicted_mean = np.random.uniform(low=-5, high=5, size=(k, ))\n",
    "    predicted_variance = np.random.uniform(low=0, high=5, size=(k, ))\n",
    "    predicted_weights = np.random.random(size=(k, ))\n",
    "    predicted_weights = predicted_weights / np.sum(predicted_weights) \n",
    "    \n",
    "    divergence_plot = []\n",
    "    \n",
    "    KL_divergence = KL_div(predicted_mean, predicted_variance, predicted_weights)\n",
    "    print(\"kl div:\", KL_divergence)\n",
    "    \n",
    "    prev_divergence = math.inf\n",
    "    \n",
    "    while abs(prev_divergence - KL_divergence) > 0.001:\n",
    "        \n",
    "        prev_divergence = KL_divergence\n",
    "        \n",
    "        probability_matrix = np.zeros((n, k))\n",
    "        normalised_p_matrix = np.zeros((n, k))\n",
    "        for i in range(n):\n",
    "            denominator_sum = 0\n",
    "            for j in range(k):\n",
    "                probability_matrix[i, j] = predicted_weights[j] * pdf(data[i], predicted_mean[j], predicted_variance[j])\n",
    "                denominator_sum += probability_matrix[i, j]\n",
    "            probability_matrix[i, :] = probability_matrix[i, :] / denominator_sum\n",
    "        \n",
    "        \n",
    "        for j in range(k):\n",
    "            normalised_p_matrix[:, j] = probability_matrix[:, j] / np.sum(probability_matrix[:, j])\n",
    "                \n",
    "        #print(predicted_mean)\n",
    "        for j in range(k):\n",
    "            predicted_weights[j] = (1/n) * np.sum(probability_matrix[:, j])\n",
    "            predicted_mean[j] = np.sum(normalised_p_matrix[:, j] * data)\n",
    "            \n",
    "            predicted_variance[j] = np.sum(normalised_p_matrix[:, j] * (data - predicted_mean[j]) ** 2)\n",
    "            \n",
    "        assert predicted_variance.all() > 0\n",
    "        assert abs(np.sum(predicted_weights) - 1) < 0.0000001\n",
    "        \n",
    "        KL_divergence = KL_div(predicted_mean, predicted_variance, predicted_weights)\n",
    "        print(\"kl div:\", KL_divergence)\n",
    "        divergence_plot.append(KL_divergence)\n",
    "        \n",
    "    return predicted_mean, predicted_variance, predicted_weights, divergence_plot\n",
    "\n",
    "\n",
    "predicted_mean, predicted_variance, predicted_weights, plot = traditional_EM()\n",
    "print(predicted_mean, predicted_variance, predicted_weights)\n",
    "print(mean, variance, weights)\n"
   ]
  },
  {
   "cell_type": "code",
   "execution_count": 92,
   "metadata": {},
   "outputs": [
    {
     "data": {
      "image/png": "[encoded data removed]",
      "text/plain": [
       "<Figure size 432x288 with 1 Axes>"
      ]
     },
     "metadata": {
      "needs_background": "light"
     },
     "output_type": "display_data"
    }
   ],
   "source": [
    "plt.plot(plot, [i for i in range(len(plot))])\n",
    "plt.xlabel(\"iteration\")\n",
    "plt.ylabel(\"kl_divergence\")\n",
    "plt.show()"
   ]
  },
  {
   "cell_type": "markdown",
   "metadata": {},
   "source": []
  }
 ],
 "metadata": {
  "kernelspec": {
   "display_name": "Python 3",
   "language": "python",
   "name": "python3"
  },
  "language_info": {
   "codemirror_mode": {
    "name": "ipython",
    "version": 3
   },
   "file_extension": ".py",
   "mimetype": "text/x-python",
   "name": "python",
   "nbconvert_exporter": "python",
   "pygments_lexer": "ipython3",
   "version": "3.10.2"
  },
  "orig_nbformat": 4,
  "vscode": {
   "interpreter": {
    "hash": "7e145918ee62325bb783ae69933f229276b5458d89ab4d949d12da7376064d41"
   }
  }
 },
 "nbformat": 4,
 "nbformat_minor": 2
}
