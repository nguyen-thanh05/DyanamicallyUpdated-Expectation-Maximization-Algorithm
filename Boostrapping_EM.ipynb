{
 "cells": [
  {
   "cell_type": "code",
   "execution_count": 30,
   "metadata": {},
   "outputs": [],
   "source": [
    "import numpy as np\n",
    "import matplotlib.pyplot as plt\n",
    "import tqdm as tqdm\n",
    "import math"
   ]
  },
  {
   "attachments": {},
   "cell_type": "markdown",
   "metadata": {},
   "source": [
    "# Step 1: Generate the data \n",
    "I'm aiming to generate 20000 datapoints from a Gaussian mixture model of k = 100 components. For simplicity, each datapoint is a scalar (1-dimension). \n",
    "To make it more realistic, I will random the weight of each component."
   ]
  },
  {
   "cell_type": "code",
   "execution_count": 24,
   "metadata": {},
   "outputs": [],
   "source": [
    "n = 20000 # Number of datapoints\n",
    "k = 100 # Number of components\n",
    "\n",
    "# Randomising the weights\n",
    "weights = np.random.random(size=(k, ))\n",
    "weights = weights / np.sum(weights) \n",
    "assert abs(np.sum(weights) - 1) < 0.00001\n",
    "\n",
    "# Decide which component we will sample from\n",
    "mixture_index = np.random.choice(k, size = n, replace = True, p = weights)\n",
    "assert mixture_index.shape == (n, )\n",
    "\n",
    "# Decide the random mean and variance of all 100 components\n",
    "mean = np.random.uniform(low=-20.0, high=20.0, size=(k, ))\n",
    "variance = np.random.uniform(low=0, high=3.0, size=(k, ))\n"
   ]
  },
  {
   "cell_type": "code",
   "execution_count": 27,
   "metadata": {},
   "outputs": [],
   "source": [
    "# Generate data using numpy for efficiency\n",
    "data = np.fromiter((np.random.normal(loc = mean[index], scale = np.sqrt([variance[index]])[0]) for index in mixture_index), float)\n",
    "assert data.shape == (n, )"
   ]
  },
  {
   "cell_type": "code",
   "execution_count": 29,
   "metadata": {},
   "outputs": [
    {
     "data": {
      "image/png": "[encoded data removed]",
      "text/plain": [
       "<Figure size 432x288 with 1 Axes>"
      ]
     },
     "metadata": {
      "needs_background": "light"
     },
     "output_type": "display_data"
    }
   ],
   "source": [
    "plt.hist(data, bins=\"auto\")\n",
    "plt.xlabel(\"x\")\n",
    "plt.ylabel(\"f(x)\")\n",
    "plt.show()"
   ]
  },
  {
   "attachments": {},
   "cell_type": "markdown",
   "metadata": {},
   "source": [
    "# Step 2: The traditional EM algorithm\n",
    "The algorithm includes finding the probability of each point belonging to each component, then tune the mean and variance of each component according the the calculated probabilities. "
   ]
  },
  {
   "cell_type": "code",
   "execution_count": 38,
   "metadata": {},
   "outputs": [],
   "source": [
    "# First, define a way to calculate pdf \n",
    "def pdf(x, mean, var):\n",
    "    assert var >= 0\n",
    "    return math.exp(-0.5 * (((float(x) - float(mean))) ** 2 ) / var) / (math.sqrt(2 * math.pi * var))\n",
    "\n",
    "# Test the function\n",
    "assert pdf(0, 0, 1) == 0.3989422804014327\n",
    "assert pdf(0.5, 0, 1) == 0.3520653267642995\n"
   ]
  },
  {
   "cell_type": "code",
   "execution_count": 59,
   "metadata": {},
   "outputs": [
    {
     "name": "stdout",
     "output_type": "stream",
     "text": [
      "error: 31386755.870332263\n",
      "error: 28286733.297652125\n",
      "error: 28286733.295344338\n",
      "error: 28286733.295344345\n",
      "error: 28286733.295344353\n",
      "error: 28286733.29534435\n"
     ]
    },
    {
     "ename": "KeyboardInterrupt",
     "evalue": "",
     "output_type": "error",
     "traceback": [
      "\u001b[1;31m---------------------------------------------------------------------------\u001b[0m",
      "\u001b[1;31mKeyboardInterrupt\u001b[0m                         Traceback (most recent call last)",
      "\u001b[1;32mc:\\Users\\tutha\\Desktop\\Personal Project\\Boostrapping-Expectation-Maximization-Algorithm\\Boostrapping_EM.ipynb Cell 8\u001b[0m in \u001b[0;36m<cell line: 42>\u001b[1;34m()\u001b[0m\n\u001b[0;32m     <a href='vscode-notebook-cell:/c%3A/Users/tutha/Desktop/Personal%20Project/Boostrapping-Expectation-Maximization-Algorithm/Boostrapping_EM.ipynb#X10sZmlsZQ%3D%3D?line=37'>38</a>\u001b[0m         \u001b[39mprint\u001b[39m(\u001b[39m\"\u001b[39m\u001b[39merror:\u001b[39m\u001b[39m\"\u001b[39m, error)\n\u001b[0;32m     <a href='vscode-notebook-cell:/c%3A/Users/tutha/Desktop/Personal%20Project/Boostrapping-Expectation-Maximization-Algorithm/Boostrapping_EM.ipynb#X10sZmlsZQ%3D%3D?line=38'>39</a>\u001b[0m     \u001b[39mreturn\u001b[39;00m predicted_mean, predicted_variance, predicted_weights\n\u001b[1;32m---> <a href='vscode-notebook-cell:/c%3A/Users/tutha/Desktop/Personal%20Project/Boostrapping-Expectation-Maximization-Algorithm/Boostrapping_EM.ipynb#X10sZmlsZQ%3D%3D?line=41'>42</a>\u001b[0m predicted_mean, predicted_variance, predicted_weights \u001b[39m=\u001b[39m traditional_EM()\n\u001b[0;32m     <a href='vscode-notebook-cell:/c%3A/Users/tutha/Desktop/Personal%20Project/Boostrapping-Expectation-Maximization-Algorithm/Boostrapping_EM.ipynb#X10sZmlsZQ%3D%3D?line=42'>43</a>\u001b[0m \u001b[39mprint\u001b[39m(predicted_mean, predicted_variance, predicted_weights)\n",
      "\u001b[1;32mc:\\Users\\tutha\\Desktop\\Personal Project\\Boostrapping-Expectation-Maximization-Algorithm\\Boostrapping_EM.ipynb Cell 8\u001b[0m in \u001b[0;36mtraditional_EM\u001b[1;34m()\u001b[0m\n\u001b[0;32m     <a href='vscode-notebook-cell:/c%3A/Users/tutha/Desktop/Personal%20Project/Boostrapping-Expectation-Maximization-Algorithm/Boostrapping_EM.ipynb#X10sZmlsZQ%3D%3D?line=17'>18</a>\u001b[0m         probability_matrix[i, j] \u001b[39m=\u001b[39m predicted_weights[j] \u001b[39m*\u001b[39m pdf(data[i], predicted_mean[j], predicted_variance[j])\n\u001b[0;32m     <a href='vscode-notebook-cell:/c%3A/Users/tutha/Desktop/Personal%20Project/Boostrapping-Expectation-Maximization-Algorithm/Boostrapping_EM.ipynb#X10sZmlsZQ%3D%3D?line=18'>19</a>\u001b[0m         denominator_sum \u001b[39m+\u001b[39m\u001b[39m=\u001b[39m probability_matrix[i, j]\n\u001b[1;32m---> <a href='vscode-notebook-cell:/c%3A/Users/tutha/Desktop/Personal%20Project/Boostrapping-Expectation-Maximization-Algorithm/Boostrapping_EM.ipynb#X10sZmlsZQ%3D%3D?line=19'>20</a>\u001b[0m     probability_matrix[i, :] \u001b[39m=\u001b[39m probability_matrix[i, :] \u001b[39m/\u001b[39m denominator_sum\n\u001b[0;32m     <a href='vscode-notebook-cell:/c%3A/Users/tutha/Desktop/Personal%20Project/Boostrapping-Expectation-Maximization-Algorithm/Boostrapping_EM.ipynb#X10sZmlsZQ%3D%3D?line=22'>23</a>\u001b[0m \u001b[39mfor\u001b[39;00m j \u001b[39min\u001b[39;00m \u001b[39mrange\u001b[39m(k):\n\u001b[0;32m     <a href='vscode-notebook-cell:/c%3A/Users/tutha/Desktop/Personal%20Project/Boostrapping-Expectation-Maximization-Algorithm/Boostrapping_EM.ipynb#X10sZmlsZQ%3D%3D?line=23'>24</a>\u001b[0m     normalised_p_matrix[:, j] \u001b[39m=\u001b[39m probability_matrix[:, j] \u001b[39m/\u001b[39m np\u001b[39m.\u001b[39msum(probability_matrix[:, j])\n",
      "\u001b[1;31mKeyboardInterrupt\u001b[0m: "
     ]
    }
   ],
   "source": [
    "# This implementation is inspired by Dr. Martha White's notes for CMPUT367, page 107. \n",
    "def traditional_EM():\n",
    "    predicted_mean = np.random.random(k)\n",
    "    predicted_variance = np.random.random(k)\n",
    "    predicted_weights = np.random.random(size=(k, ))\n",
    "    predicted_weights = predicted_weights / np.sum(predicted_weights) \n",
    "    \n",
    "    error = np.linalg.norm(mean - predicted_mean, 2)\n",
    "    error += np.linalg.norm(variance - predicted_variance, 2)\n",
    "    error += np.linalg.norm(weights - predicted_weights, 2)\n",
    "    \n",
    "    while error > 1e-2:\n",
    "        probability_matrix = np.zeros((n, k))\n",
    "        normalised_p_matrix = np.zeros((n, k))\n",
    "        for i in range(n):\n",
    "            denominator_sum = 0\n",
    "            for j in range(k):\n",
    "                probability_matrix[i, j] = predicted_weights[j] * pdf(data[i], predicted_mean[j], predicted_variance[j])\n",
    "                denominator_sum += probability_matrix[i, j]\n",
    "            probability_matrix[i, :] = probability_matrix[i, :] / denominator_sum\n",
    "        \n",
    "        \n",
    "        for j in range(k):\n",
    "            normalised_p_matrix[:, j] = probability_matrix[:, j] / np.sum(probability_matrix[:, j])\n",
    "                \n",
    "        #print(predicted_mean)\n",
    "        for j in range(k):\n",
    "            predicted_weights[j] = float(1/n) * np.sum(probability_matrix[:, j])\n",
    "            predicted_mean[j] = np.sum(normalised_p_matrix[:, j] * data)\n",
    "            predicted_variance[j] = np.sum(normalised_p_matrix[:, j]) * ((np.linalg.norm(data - predicted_mean[j], 2)) ** 2)\n",
    "        \n",
    "        \n",
    "        \n",
    "        error = np.linalg.norm(mean - predicted_mean, 2)\n",
    "        error += np.linalg.norm(variance - predicted_variance, 2)\n",
    "        error += np.linalg.norm(weights - predicted_weights, 2)\n",
    "        \n",
    "        print(\"error:\", error)\n",
    "    return predicted_mean, predicted_variance, predicted_weights\n",
    "\n",
    "\n",
    "predicted_mean, predicted_variance, predicted_weights = traditional_EM()\n",
    "print(predicted_mean, predicted_variance, predicted_weights)"
   ]
  }
 ],
 "metadata": {
  "kernelspec": {
   "display_name": "Python 3",
   "language": "python",
   "name": "python3"
  },
  "language_info": {
   "codemirror_mode": {
    "name": "ipython",
    "version": 3
   },
   "file_extension": ".py",
   "mimetype": "text/x-python",
   "name": "python",
   "nbconvert_exporter": "python",
   "pygments_lexer": "ipython3",
   "version": "3.10.2"
  },
  "orig_nbformat": 4,
  "vscode": {
   "interpreter": {
    "hash": "7e145918ee62325bb783ae69933f229276b5458d89ab4d949d12da7376064d41"
   }
  }
 },
 "nbformat": 4,
 "nbformat_minor": 2
}
