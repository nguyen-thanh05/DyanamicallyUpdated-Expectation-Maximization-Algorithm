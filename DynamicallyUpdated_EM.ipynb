{
 "cells": [
  {
   "cell_type": "code",
   "execution_count": 46,
   "metadata": {},
   "outputs": [],
   "source": [
    "import numpy as np\n",
    "import matplotlib.pyplot as plt\n",
    "import tqdm as tqdm\n",
    "import math\n",
    "from scipy.integrate import quad"
   ]
  },
  {
   "attachments": {},
   "cell_type": "markdown",
   "metadata": {},
   "source": [
    "# Step 1: Generate the data \n",
    "I'm aiming to generate 20000 datapoints from a Gaussian mixture model of k = 100 components. For simplicity, each datapoint is a scalar (1-dimension). \n",
    "To make it more realistic, I will random the weight of each component."
   ]
  },
  {
   "cell_type": "code",
   "execution_count": 127,
   "metadata": {},
   "outputs": [],
   "source": [
    "n = 75000 # Number of datapoints\n",
    "k = 15 # Number of components\n",
    "\n",
    "# Randomising the weights\n",
    "weights = np.random.uniform(low = 0.75, high = 1, size=(k, ))\n",
    "weights = weights / np.sum(weights) \n",
    "assert abs(np.sum(weights) - 1) < 0.0000001 # Ensuring a convex linear combination\n",
    "\n",
    "# Decide which component we will sample from\n",
    "mixture_index = np.random.choice(k, size = n, replace = True, p = weights)\n",
    "assert mixture_index.shape == (n, )\n",
    "\n",
    "# Decide the random mean and variance of all 100 components\n",
    "mean = np.random.uniform(low=-17.5, high=17.5, size=(k, ))\n",
    "variance = np.random.uniform(low=0.5, high=2, size=(k, ))\n"
   ]
  },
  {
   "cell_type": "code",
   "execution_count": 128,
   "metadata": {},
   "outputs": [],
   "source": [
    "# Generate data using numpy for efficiency\n",
    "data = np.fromiter((np.random.normal(loc = mean[index], scale = np.sqrt([variance[index]])[0]) for index in mixture_index), float)\n",
    "assert data.shape == (n, )"
   ]
  },
  {
   "cell_type": "code",
   "execution_count": 129,
   "metadata": {},
   "outputs": [
    {
     "data": {
      "image/png": "[encoded data removed]",
      "text/plain": [
       "<Figure size 432x288 with 1 Axes>"
      ]
     },
     "metadata": {
      "needs_background": "light"
     },
     "output_type": "display_data"
    }
   ],
   "source": [
    "plt.hist(data, bins=\"auto\", density=True)\n",
    "plt.xlabel(\"x\")\n",
    "plt.ylabel(\"f(x)\")\n",
    "plt.show()"
   ]
  },
  {
   "attachments": {},
   "cell_type": "markdown",
   "metadata": {},
   "source": [
    "# Step 2: The traditional EM algorithm\n",
    "The algorithm includes finding the probability of each point belonging to each component, then tune the mean and variance of each component according the the calculated probabilities. "
   ]
  },
  {
   "cell_type": "code",
   "execution_count": 130,
   "metadata": {},
   "outputs": [],
   "source": [
    "# First, define a way to calculate pdf \n",
    "def pdf(x, input_mean, input_var):\n",
    "    \n",
    "    return math.exp(-0.5 * ((x - input_mean) ** 2 ) / input_var) / (math.sqrt(2 * math.pi * input_var))\n",
    "\n",
    "# Test the function\n",
    "assert pdf(0, 0, 1) == 0.3989422804014327\n",
    "assert pdf(0.5, 0, 1) == 0.3520653267642995\n"
   ]
  },
  {
   "cell_type": "code",
   "execution_count": 131,
   "metadata": {},
   "outputs": [],
   "source": [
    "# Define a metric to evaluate our return from EM alg.\n",
    "# KL divergence is an integral from -inf to +inf, in this case, I only use the n datapoints that we already generated.\n",
    "\n",
    "# Hardcoded P_value to save time\n",
    "P_value = np.zeros((n,))\n",
    "for i in range(n):\n",
    "    for j in range(k):\n",
    "        P_value[i] += weights[j] * pdf(data[i], mean[j], variance[j])   \n",
    "        \n",
    "        \n",
    "def KL_div(pred_mean, pred_variance, pred_weights):\n",
    "    KL_divergence = 0\n",
    "    for i in range(n):\n",
    "        Q_value = 0\n",
    "        for j in range(k):\n",
    "            Q_value += pred_weights[j] * pdf(data[i], pred_mean[j], pred_variance[j])\n",
    "            #P_value += weights[j] * pdf(data[i], mean[j], variance[j])\n",
    "        KL_divergence += P_value[i] * math.log(P_value[i]/Q_value, math.e) - P_value[i] + Q_value\n",
    "    \n",
    "    return KL_divergence\n",
    "    \n",
    "assert KL_div(mean, variance, weights) == 0\n",
    "\n"
   ]
  },
  {
   "cell_type": "code",
   "execution_count": 135,
   "metadata": {},
   "outputs": [],
   "source": [
    "# This implementation is based on Dr. Martha White's notes for CMPUT367, page 107. \n",
    "\n",
    "def traditional_EM():\n",
    "    \n",
    "    # Starts with random means, variances and weights\n",
    "    predicted_mean = np.random.uniform(low=-5, high=5, size=(k, ))\n",
    "    predicted_variance = np.random.uniform(low=0.5, high=5, size=(k, ))\n",
    "    predicted_weights = np.random.random(size=(k, ))\n",
    "    predicted_weights = predicted_weights / np.sum(predicted_weights) \n",
    "    \n",
    "    \n",
    "    divergence_plot = [] # Array for plotting later\n",
    "    counter = 0 # Count iteration for printing divergence\n",
    "    \n",
    "    KL_divergence = KL_div(predicted_mean, predicted_variance, predicted_weights)\n",
    "    print(\"kl div:\", KL_divergence)\n",
    "    prev_divergence = math.inf\n",
    "    \n",
    "    probability_matrix = np.zeros((n, k))\n",
    "    normalised_p_matrix = np.zeros((n, k))\n",
    "    \n",
    "    while prev_divergence - KL_divergence > 0.0001 and KL_divergence > 0:\n",
    "        \n",
    "        for i in range(n):\n",
    "            denominator_sum = 0\n",
    "            for j in range(k):\n",
    "                probability_matrix[i, j] = predicted_weights[j] * pdf(data[i], predicted_mean[j], predicted_variance[j])\n",
    "            \n",
    "            denominator_sum = np.sum(probability_matrix[i, :])\n",
    "            \n",
    "            probability_matrix[i, :] = probability_matrix[i, :] / denominator_sum\n",
    "        \n",
    "        \n",
    "        for j in range(k):\n",
    "            normalised_p_matrix[:, j] = probability_matrix[:, j] / np.sum(probability_matrix[:, j])\n",
    "            \n",
    "                \n",
    "        \n",
    "        for j in range(k):\n",
    "            \n",
    "            predicted_weights[j] = (1/n) * np.sum(probability_matrix[:, j])\n",
    "            predicted_mean[j] = np.sum(normalised_p_matrix[:, j] * data)\n",
    "            \n",
    "            predicted_variance[j] = np.sum(normalised_p_matrix[:, j] * (data - predicted_mean[j]) ** 2)\n",
    "        \n",
    "        diff = prev_divergence - KL_divergence\n",
    "        prev_divergence = KL_divergence\n",
    "        KL_divergence = KL_div(predicted_mean, predicted_variance, predicted_weights)\n",
    "        \n",
    "        if counter % 5 == 0:\n",
    "            print(\"kl div:\", KL_divergence, \" |  iter:\", counter, \" |  difference vs the prev iter:\", diff)\n",
    "            \n",
    "            \n",
    "        divergence_plot.append(KL_divergence)\n",
    "        counter += 1\n",
    "    return predicted_mean, predicted_variance, predicted_weights, divergence_plot\n",
    "\n"
   ]
  },
  {
   "cell_type": "code",
   "execution_count": 136,
   "metadata": {},
   "outputs": [
    {
     "name": "stdout",
     "output_type": "stream",
     "text": [
      "kl div: 24564.45607870873\n",
      "kl div: 125.21716688125123  |  iter: 0  |  difference vs the prev iter: inf\n",
      "kl div: 46.578230760263565  |  iter: 5  |  difference vs the prev iter: 7.602270852407592\n",
      "kl div: 35.92116005130621  |  iter: 10  |  difference vs the prev iter: 1.3627524482240148\n",
      "kl div: 33.04351248900498  |  iter: 15  |  difference vs the prev iter: 0.44157534542772936\n",
      "kl div: 31.58386436373324  |  iter: 20  |  difference vs the prev iter: 0.2710690326268761\n",
      "kl div: 30.439271272525346  |  iter: 25  |  difference vs the prev iter: 0.21958766204931024\n",
      "kl div: 29.479559497727656  |  iter: 30  |  difference vs the prev iter: 0.18615619002969908\n",
      "kl div: 28.540524453714145  |  iter: 35  |  difference vs the prev iter: 0.1905015273400643\n",
      "kl div: 27.396599279101988  |  iter: 40  |  difference vs the prev iter: 0.24064684718749874\n",
      "kl div: 25.833757587949613  |  iter: 45  |  difference vs the prev iter: 0.3325096300344974\n",
      "kl div: 23.81583198833086  |  iter: 50  |  difference vs the prev iter: 0.41916531996846373\n",
      "kl div: 21.802188286734797  |  iter: 55  |  difference vs the prev iter: 0.39063023879285197\n",
      "kl div: 20.275295421617763  |  iter: 60  |  difference vs the prev iter: 0.28389432216996724\n",
      "kl div: 19.089317337558576  |  iter: 65  |  difference vs the prev iter: 0.22918269032870953\n",
      "kl div: 17.970825778397998  |  iter: 70  |  difference vs the prev iter: 0.22392152349678796\n",
      "kl div: 16.828396871933137  |  iter: 75  |  difference vs the prev iter: 0.22951035420603105\n",
      "kl div: 15.718205432125922  |  iter: 80  |  difference vs the prev iter: 0.218920622550268\n",
      "kl div: 14.768228966248335  |  iter: 85  |  difference vs the prev iter: 0.18143882662409894\n",
      "kl div: 14.06848128988056  |  iter: 90  |  difference vs the prev iter: 0.12929283146970505\n",
      "kl div: 13.611586568765224  |  iter: 95  |  difference vs the prev iter: 0.08249847681039135\n",
      "kl div: 13.332184854107762  |  iter: 100  |  difference vs the prev iter: 0.049976465297753236\n",
      "kl div: 13.16347232857245  |  iter: 105  |  difference vs the prev iter: 0.03023836286816106\n",
      "kl div: 13.058704296925873  |  iter: 110  |  difference vs the prev iter: 0.01897125304489755\n",
      "kl div: 12.98980606248275  |  iter: 115  |  difference vs the prev iter: 0.01267420755773685\n",
      "kl div: 12.940896454925474  |  iter: 120  |  difference vs the prev iter: 0.009165909758483082\n",
      "kl div: 12.90312542615869  |  iter: 125  |  difference vs the prev iter: 0.007211098931181326\n",
      "kl div: 12.871527886773817  |  iter: 130  |  difference vs the prev iter: 0.006130528969878313\n",
      "kl div: 12.84327830726687  |  iter: 135  |  difference vs the prev iter: 0.005549263323461062\n",
      "kl div: 12.816751875382874  |  iter: 140  |  difference vs the prev iter: 0.005255522783462752\n",
      "kl div: 12.791019919704224  |  iter: 145  |  difference vs the prev iter: 0.00512540412270468\n",
      "kl div: 12.765574267739247  |  iter: 150  |  difference vs the prev iter: 0.005083280877290264\n",
      "kl div: 12.740171765945224  |  iter: 155  |  difference vs the prev iter: 0.00508103160496276\n",
      "kl div: 12.714741296964597  |  iter: 160  |  difference vs the prev iter: 0.005087282655848568\n",
      "kl div: 12.689322255295764  |  iter: 165  |  difference vs the prev iter: 0.0050820594000136055\n",
      "kl div: 12.664017995485374  |  iter: 170  |  difference vs the prev iter: 0.005054278495428832\n",
      "kl div: 12.638956597178822  |  iter: 175  |  difference vs the prev iter: 0.00500047841854645\n",
      "kl div: 12.614257112664752  |  iter: 180  |  difference vs the prev iter: 0.0049237218071152\n",
      "kl div: 12.590002976572794  |  iter: 185  |  difference vs the prev iter: 0.004832058176440057\n",
      "kl div: 12.566225387447247  |  iter: 190  |  difference vs the prev iter: 0.004736418774360374\n",
      "kl div: 12.542898356914648  |  iter: 195  |  difference vs the prev iter: 0.004648248627026064\n",
      "kl div: 12.519944630370654  |  iter: 200  |  difference vs the prev iter: 0.004577409131997001\n",
      "kl div: 12.497249198511767  |  iter: 205  |  difference vs the prev iter: 0.004530824321161475\n",
      "kl div: 12.47467583670565  |  iter: 210  |  difference vs the prev iter: 0.004512065134553822\n",
      "kl div: 12.45208242876874  |  iter: 215  |  difference vs the prev iter: 0.004521745088586826\n",
      "kl div: 12.429332310947458  |  iter: 220  |  difference vs the prev iter: 0.00455839745798059\n",
      "kl div: 12.406300676092187  |  iter: 225  |  difference vs the prev iter: 0.004619473949022179\n",
      "kl div: 12.382876507017393  |  iter: 230  |  difference vs the prev iter: 0.0047022023750411535\n",
      "kl div: 12.358961261127723  |  iter: 235  |  difference vs the prev iter: 0.0048041811025481\n",
      "kl div: 12.334465665265867  |  iter: 240  |  difference vs the prev iter: 0.00492370446513668\n",
      "kl div: 12.309305735065514  |  iter: 245  |  difference vs the prev iter: 0.005059879079016838\n",
      "kl div: 12.283398746925938  |  iter: 250  |  difference vs the prev iter: 0.0052126106117729165\n",
      "kl div: 12.256659524227679  |  iter: 255  |  difference vs the prev iter: 0.005382531711244809\n",
      "kl div: 12.228997124951192  |  iter: 260  |  difference vs the prev iter: 0.005570921770885917\n",
      "kl div: 12.200311845305086  |  iter: 265  |  difference vs the prev iter: 0.00577964915027529\n",
      "kl div: 12.170492362473379  |  iter: 270  |  difference vs the prev iter: 0.006011151376657864\n",
      "kl div: 12.139412799803816  |  iter: 275  |  difference vs the prev iter: 0.006268459669820814\n",
      "kl div: 12.106929483761192  |  iter: 280  |  difference vs the prev iter: 0.006555269935068608\n",
      "kl div: 12.072877154519041  |  iter: 285  |  difference vs the prev iter: 0.006876061691386326\n",
      "kl div: 12.037064378152587  |  iter: 290  |  difference vs the prev iter: 0.007236268154608538\n",
      "kl div: 11.999267878844902  |  iter: 295  |  difference vs the prev iter: 0.0076425041280998585\n",
      "kl div: 11.959225456339883  |  iter: 300  |  difference vs the prev iter: 0.00810286342224309\n",
      "kl div: 11.916627067573632  |  iter: 305  |  difference vs the prev iter: 0.008627304555453463\n",
      "kl div: 11.871103518145855  |  iter: 310  |  difference vs the prev iter: 0.009228153545837614\n",
      "kl div: 11.822212007311599  |  iter: 315  |  difference vs the prev iter: 0.00992076736065961\n",
      "kl div: 11.769417464924494  |  iter: 320  |  difference vs the prev iter: 0.010724423895650759\n",
      "kl div: 11.712068155789892  |  iter: 325  |  difference vs the prev iter: 0.011663538443993815\n",
      "kl div: 11.64936332213103  |  iter: 330  |  difference vs the prev iter: 0.012769358920412088\n",
      "kl div: 11.580309562610248  |  iter: 335  |  difference vs the prev iter: 0.014082371390163217\n",
      "kl div: 11.503661028058566  |  iter: 340  |  difference vs the prev iter: 0.015655764715676312\n",
      "kl div: 11.417836116300373  |  iter: 345  |  difference vs the prev iter: 0.017560469206793883\n",
      "kl div: 11.320799903928979  |  iter: 350  |  difference vs the prev iter: 0.019892504413677514\n",
      "kl div: 11.209896816796736  |  iter: 355  |  difference vs the prev iter: 0.022783638328434108\n",
      "kl div: 11.081611874870479  |  iter: 360  |  difference vs the prev iter: 0.02641664945446287\n",
      "kl div: 10.93123138601541  |  iter: 365  |  difference vs the prev iter: 0.031046730603650374\n",
      "kl div: 10.752366900156876  |  iter: 370  |  difference vs the prev iter: 0.037030381451494065\n",
      "kl div: 10.536311622343174  |  iter: 375  |  difference vs the prev iter: 0.0448598666026534\n",
      "kl div: 10.271279502966292  |  iter: 380  |  difference vs the prev iter: 0.05518226748866262\n",
      "kl div: 9.941975912094255  |  iter: 385  |  difference vs the prev iter: 0.06870443899012102\n",
      "kl div: 9.531293783729494  |  iter: 390  |  difference vs the prev iter: 0.08566265757382929\n",
      "kl div: 9.028794086449725  |  iter: 395  |  difference vs the prev iter: 0.10421996859323279\n",
      "kl div: 8.451241585873822  |  iter: 400  |  difference vs the prev iter: 0.11789626817194687\n",
      "kl div: 7.8630753494228856  |  iter: 405  |  difference vs the prev iter: 0.11661325926084931\n",
      "kl div: 7.35380196312403  |  iter: 410  |  difference vs the prev iter: 0.09736367160153225\n",
      "kl div: 6.973749028905363  |  iter: 415  |  difference vs the prev iter: 0.07059752856510482\n",
      "kl div: 6.713715230348525  |  iter: 420  |  difference vs the prev iter: 0.04769917022149617\n",
      "kl div: 6.539817351832501  |  iter: 425  |  difference vs the prev iter: 0.03189672646082631\n",
      "kl div: 6.421839374218285  |  iter: 430  |  difference vs the prev iter: 0.021759098586652925\n",
      "kl div: 6.339551938930153  |  iter: 435  |  difference vs the prev iter: 0.015279675164252993\n",
      "kl div: 6.2804728131119525  |  iter: 440  |  difference vs the prev iter: 0.011039866865863779\n",
      "kl div: 6.2369394030438325  |  iter: 445  |  difference vs the prev iter: 0.00817943027342416\n",
      "kl div: 6.204135682996873  |  iter: 450  |  difference vs the prev iter: 0.006192096904380051\n",
      "kl div: 6.178936048572293  |  iter: 455  |  difference vs the prev iter: 0.004775811661789753\n",
      "kl div: 6.1592460219554415  |  iter: 460  |  difference vs the prev iter: 0.0037449243549056987\n",
      "kl div: 6.143621624498617  |  iter: 465  |  difference vs the prev iter: 0.0029813532234275186\n",
      "kl div: 6.131043409688099  |  iter: 470  |  difference vs the prev iter: 0.002407438826791619\n",
      "kl div: 6.1207777066460345  |  iter: 475  |  difference vs the prev iter: 0.0019705506455078847\n",
      "kl div: 6.112288401774708  |  iter: 480  |  difference vs the prev iter: 0.0016341002788813341\n",
      "kl div: 6.105178975661084  |  iter: 485  |  difference vs the prev iter: 0.0013721173777092588\n",
      "kl div: 6.099153285667524  |  iter: 490  |  difference vs the prev iter: 0.0011658613470668655\n",
      "kl div: 6.093988360689389  |  iter: 495  |  difference vs the prev iter: 0.0010016333449307524\n",
      "kl div: 6.089515136030444  |  iter: 500  |  difference vs the prev iter: 0.0008693200412110969\n",
      "kl div: 6.08560458171338  |  iter: 505  |  difference vs the prev iter: 0.0007613986446139975\n",
      "kl div: 6.082157579781067  |  iter: 510  |  difference vs the prev iter: 0.000672241929859041\n",
      "kl div: 6.079097457925178  |  iter: 515  |  difference vs the prev iter: 0.0005976238478284657\n",
      "kl div: 6.076364435497699  |  iter: 520  |  difference vs the prev iter: 0.0005343624071363351\n",
      "kl div: 6.073911465118087  |  iter: 525  |  difference vs the prev iter: 0.00048005831818187517\n",
      "kl div: 6.071701104879816  |  iter: 530  |  difference vs the prev iter: 0.00043290150092367696\n",
      "kl div: 6.069703159701861  |  iter: 535  |  difference vs the prev iter: 0.0003915263581966144\n",
      "kl div: 6.067892902076404  |  iter: 540  |  difference vs the prev iter: 0.0003549025394935512\n",
      "kl div: 6.0662497327083145  |  iter: 545  |  difference vs the prev iter: 0.00032225187517997966\n",
      "kl div: 6.064756177086078  |  iter: 550  |  difference vs the prev iter: 0.00029298487535012185\n",
      "kl div: 6.0633971394074235  |  iter: 555  |  difference vs the prev iter: 0.00026665206051479373\n",
      "kl div: 6.062159353630142  |  iter: 560  |  difference vs the prev iter: 0.00024290669758286754\n",
      "kl div: 6.061030984895361  |  iter: 565  |  difference vs the prev iter: 0.00022147641118142047\n",
      "kl div: 6.060001344666257  |  iter: 570  |  difference vs the prev iter: 0.00020214176749977497\n",
      "kl div: 6.0590606906848805  |  iter: 575  |  difference vs the prev iter: 0.00018472035718630764\n",
      "kl div: 6.0582000889478715  |  iter: 580  |  difference vs the prev iter: 0.00016905521663623801\n",
      "kl div: 6.057411319829418  |  iter: 585  |  difference vs the prev iter: 0.0001550066430668906\n",
      "kl div: 6.056686814488369  |  iter: 590  |  difference vs the prev iter: 0.00014244663354379128\n",
      "kl div: 6.056019611021248  |  iter: 595  |  difference vs the prev iter: 0.00013125530982627254\n",
      "kl div: 6.055403322549417  |  iter: 600  |  difference vs the prev iter: 0.00012131880441756948\n",
      "kl div: 6.05483211165545  |  iter: 605  |  difference vs the prev iter: 0.00011252818197515779\n",
      "kl div: 6.054300667370952  |  iter: 610  |  difference vs the prev iter: 0.00010477905585215552\n"
     ]
    }
   ],
   "source": [
    "predicted_mean, predicted_variance, predicted_weights, plot = traditional_EM()"
   ]
  },
  {
   "cell_type": "code",
   "execution_count": 137,
   "metadata": {},
   "outputs": [
    {
     "name": "stdout",
     "output_type": "stream",
     "text": [
      "Predicted means: [ -9.45108063   2.39590315   6.29123958   5.04783597  -2.23846811\n",
      "   2.90783147   4.32147608   7.78171847 -14.50944409  -4.55340232\n",
      "  -2.45971776  -6.34133299   8.16356729  17.21372843  13.23816414]\n",
      "Actual means: [ -9.45668503   2.75865957  11.83841965 -14.98852191 -14.00031957\n",
      "  16.91121037  -5.27222479 -12.2513576    9.20180112  -6.39083721\n",
      "   5.99206143  13.95796871   4.52789798  -2.54280959 -17.23842658]\n",
      "\n",
      "Predicted var: [0.59009482 0.65539978 0.45737567 1.06623272 1.20892562 0.54272741\n",
      " 1.39744668 5.972789   5.70336173 2.91393203 1.22734404 0.63419788\n",
      " 5.43379741 0.75970025 4.38072854]\n",
      "Actual Var: [0.63277194 0.59355709 1.30038876 1.6073813  1.61132839 1.07735113\n",
      " 1.7074707  1.72813348 1.9329586  0.68795265 1.26704392 0.92259848\n",
      " 1.67348484 1.49011001 1.29818762]\n",
      "\n",
      "Predicted weights: [0.06781194 0.01897034 0.0179916  0.07883411 0.04285718 0.05320692\n",
      " 0.00382902 0.07185271 0.27281915 0.08704632 0.00287808 0.06002665\n",
      " 0.02157998 0.03783028 0.16246573]\n",
      "Actual weights: [0.07416766 0.06143353 0.06556774 0.06002895 0.06131061 0.06214279\n",
      " 0.06028776 0.0733532  0.05753569 0.05804475 0.07554429 0.06932796\n",
      " 0.07413882 0.07269723 0.07441903]\n"
     ]
    }
   ],
   "source": [
    "print(\"Predicted means:\", predicted_mean)\n",
    "print(\"Actual means:\", mean)\n",
    "print()\n",
    "print(\"Predicted var:\", predicted_variance)\n",
    "print(\"Actual Var:\", variance)\n",
    "print()\n",
    "print(\"Predicted weights:\", predicted_weights)\n",
    "print(\"Actual weights:\", weights)\n",
    "\n"
   ]
  },
  {
   "cell_type": "code",
   "execution_count": 138,
   "metadata": {},
   "outputs": [
    {
     "data": {
      "image/png": "[encoded data removed]",
      "text/plain": [
       "<Figure size 432x288 with 1 Axes>"
      ]
     },
     "metadata": {
      "needs_background": "light"
     },
     "output_type": "display_data"
    }
   ],
   "source": [
    "plt.plot([i for i in range(len(plot))], plot)\n",
    "plt.xlabel(\"iteration\")\n",
    "plt.ylabel(\"kl_divergence\")\n",
    "plt.show()\n"
   ]
  },
  {
   "cell_type": "markdown",
   "metadata": {},
   "source": []
  },
  {
   "cell_type": "code",
   "execution_count": 139,
   "metadata": {},
   "outputs": [
    {
     "data": {
      "image/png": "[encoded data removed]",
      "text/plain": [
       "<Figure size 432x288 with 1 Axes>"
      ]
     },
     "metadata": {
      "needs_background": "light"
     },
     "output_type": "display_data"
    }
   ],
   "source": [
    "learned_mixture_index = np.random.choice(k, size = n, replace = True, p = predicted_weights)\n",
    "learned_data = np.fromiter((np.random.normal(loc = predicted_mean[index], scale = np.sqrt([predicted_variance[index]])[0]) for index in learned_mixture_index), float)\n",
    "assert data.shape == (n, )\n",
    "\n",
    "plt.hist(learned_data, bins=\"auto\", density=True)\n",
    "plt.xlabel(\"x\")\n",
    "plt.ylabel(\"f(x)\")\n",
    "plt.show()"
   ]
  },
  {
   "cell_type": "code",
   "execution_count": 140,
   "metadata": {},
   "outputs": [
    {
     "data": {
      "image/png": "[encoded data removed]",
      "text/plain": [
       "<Figure size 432x288 with 1 Axes>"
      ]
     },
     "metadata": {
      "needs_background": "light"
     },
     "output_type": "display_data"
    }
   ],
   "source": [
    "plt.hist(data, bins=\"auto\", density=True)\n",
    "plt.xlabel(\"x\")\n",
    "plt.ylabel(\"f(x)\")\n",
    "plt.show()"
   ]
  }
 ],
 "metadata": {
  "kernelspec": {
   "display_name": "Python 3",
   "language": "python",
   "name": "python3"
  },
  "language_info": {
   "codemirror_mode": {
    "name": "ipython",
    "version": 3
   },
   "file_extension": ".py",
   "mimetype": "text/x-python",
   "name": "python",
   "nbconvert_exporter": "python",
   "pygments_lexer": "ipython3",
   "version": "3.10.2 (tags/v3.10.2:a58ebcc, Jan 17 2022, 14:12:15) [MSC v.1929 64 bit (AMD64)]"
  },
  "orig_nbformat": 4,
  "vscode": {
   "interpreter": {
    "hash": "7e145918ee62325bb783ae69933f229276b5458d89ab4d949d12da7376064d41"
   }
  }
 },
 "nbformat": 4,
 "nbformat_minor": 2
}
