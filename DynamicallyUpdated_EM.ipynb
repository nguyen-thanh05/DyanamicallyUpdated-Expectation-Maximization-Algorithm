{
 "cells": [
  {
   "cell_type": "code",
   "execution_count": 1,
   "metadata": {},
   "outputs": [],
   "source": [
    "import numpy as np\n",
    "import matplotlib.pyplot as plt\n",
    "\n",
    "import math"
   ]
  },
  {
   "attachments": {},
   "cell_type": "markdown",
   "metadata": {},
   "source": [
    "# Step 1: Generate the data \n",
    "I'm aiming to generate 100000 datapoints from a Gaussian mixture model of k = 15 components. For simplicity, each datapoint is a scalar (1-dimension). \n",
    "To make it more realistic, I will random the weight of each component."
   ]
  },
  {
   "cell_type": "code",
   "execution_count": 2,
   "metadata": {},
   "outputs": [],
   "source": [
    "n = 100000 # Number of datapoints\n",
    "k = 15 # Number of components\n",
    "\n",
    "# Randomising the weights\n",
    "weights = np.random.uniform(low = 0.75, high = 1, size=(k, ))\n",
    "weights = weights / np.sum(weights) \n",
    "assert abs(np.sum(weights) - 1) < 0.0000001 # Ensuring a convex linear combination\n",
    "\n",
    "# Decide which component we will sample from\n",
    "mixture_index = np.random.choice(k, size = n, replace = True, p = weights)\n",
    "assert mixture_index.shape == (n, )\n",
    "\n",
    "# Decide the random mean and variance of all 100 components\n",
    "mean = np.random.uniform(low=-12.5, high=12.5, size=(k, ))\n",
    "variance = np.random.uniform(low=0.75, high=1.5, size=(k, ))\n"
   ]
  },
  {
   "cell_type": "code",
   "execution_count": 3,
   "metadata": {},
   "outputs": [],
   "source": [
    "# Generate data using numpy for efficiency\n",
    "data = np.fromiter((np.random.normal(loc = mean[index], scale = np.sqrt([variance[index]])[0]) for index in mixture_index), float)\n",
    "assert data.shape == (n, )"
   ]
  },
  {
   "cell_type": "code",
   "execution_count": 4,
   "metadata": {},
   "outputs": [
    {
     "data": {
      "image/png": "[encoded data removed]",
      "text/plain": [
       "<Figure size 432x288 with 1 Axes>"
      ]
     },
     "metadata": {
      "needs_background": "light"
     },
     "output_type": "display_data"
    }
   ],
   "source": [
    "plt.hist(data, bins=\"auto\", density=True)\n",
    "plt.xlabel(\"x\")\n",
    "plt.ylabel(\"f(x)\")\n",
    "plt.show()"
   ]
  },
  {
   "attachments": {},
   "cell_type": "markdown",
   "metadata": {},
   "source": [
    "# Step 2: The traditional EM algorithm\n",
    "The algorithm includes finding the probability of each point belonging to each component, then tune the mean and variance of each component according the the calculated probabilities. "
   ]
  },
  {
   "cell_type": "code",
   "execution_count": 5,
   "metadata": {},
   "outputs": [],
   "source": [
    "\n",
    "# First, define a way to calculate pdf \n",
    "# This function is actually not used due to its low efficiency. See function calculate_p_matrix below\n",
    "def pdf(x, input_mean, input_var):\n",
    "    return math.exp(-0.5 * ((x - input_mean) ** 2 ) / input_var) / (math.sqrt(2 * math.pi * input_var))\n",
    "\n",
    "# Test the function\n",
    "assert pdf(0, 0, 1) == 0.3989422804014327\n",
    "assert pdf(0.5, 0, 1) == 0.3520653267642995\n"
   ]
  },
  {
   "cell_type": "code",
   "execution_count": 6,
   "metadata": {},
   "outputs": [],
   "source": [
    "# Using numpy to calculate pdf\n",
    "# Note that this p matrix is not yet normalised\n",
    "def calculate_p_matrix(x, input_mean, input_var, input_weight):\n",
    "    # Duplicate data so dimensions work out\n",
    "    mean_matrix = np.tile(input_mean, (len(x), 1)).T\n",
    "    variance_matrix = np.tile(input_var, (len(x), 1)).T\n",
    "    weight_matrix = np.tile(input_weight, (len(x), 1)).T\n",
    "    \n",
    "    # PDF calculation\n",
    "    p_matrix = weight_matrix * np.exp(-0.5 * np.power(x - mean_matrix, 2) / variance_matrix) / (np.sqrt(2 * np.pi * variance_matrix))\n",
    "    \n",
    "    p_matrix = p_matrix.transpose(1, 0)\n",
    "    \n",
    "    return p_matrix\n"
   ]
  },
  {
   "cell_type": "code",
   "execution_count": 7,
   "metadata": {},
   "outputs": [
    {
     "name": "stdout",
     "output_type": "stream",
     "text": [
      "new [0.09972086 0.02745322 0.11151248 ... 0.04918704 0.04773083 0.03839223]\n",
      "old [0.09972086 0.02745322 0.11151248 ... 0.04918704 0.04773083 0.03839223]\n"
     ]
    }
   ],
   "source": [
    "# Define a metric to evaluate our return from EM alg.\n",
    "# Hardcoded P_value to save time\n",
    "\n",
    "# Old implementation\n",
    "old_P_value = np.zeros((n,))\n",
    "for i in range(n):\n",
    "    for j in range(k):\n",
    "        old_P_value[i] += weights[j] * pdf(data[i], mean[j], variance[j])\n",
    "\n",
    "\n",
    "# New implementation with numpy, more efficient\n",
    "P_value = np.sum(calculate_p_matrix(data, mean, variance, weights), axis = 1)\n",
    "   \n",
    "print(\"new\", P_value)\n",
    "print(\"old\", old_P_value)"
   ]
  },
  {
   "cell_type": "code",
   "execution_count": 8,
   "metadata": {},
   "outputs": [],
   "source": [
    "\n",
    "# KL divergence is an integral from -inf to +inf, in this case, I only use the n datapoints that we already generated.\n",
    "# The addition of - P + Q was inspired by scipy's implementation of KL divergence. Apparently, it prevents KL divergence from going negative\n",
    "def KL_div(pred_mean, pred_variance, pred_weights):\n",
    "    # Old implementation\n",
    "    \"\"\"KL_divergence = 0\n",
    "    for i in range(n):\n",
    "        Q_value = 0\n",
    "        for j in range(k):\n",
    "            Q_value += pred_weights[j] * pdf(data[i], pred_mean[j], pred_variance[j])\n",
    "            #P_value += weights[j] * pdf(data[i], mean[j], variance[j])\n",
    "        KL_divergence += P_value[i] * math.log(P_value[i]/Q_value, math.e) - P_value[i] + Q_value\"\"\"\n",
    "    \n",
    "    \n",
    "    # New implementation\n",
    "    Q_value = np.sum(calculate_p_matrix(data, pred_mean, pred_variance, pred_weights), axis = 1)\n",
    "    \n",
    "    KL_divergence = np.sum(P_value * np.log(P_value / Q_value) - P_value + Q_value)\n",
    "    \n",
    "    return KL_divergence\n",
    "    \n",
    "assert KL_div(mean, variance, weights) == 0\n",
    "\n"
   ]
  },
  {
   "cell_type": "code",
   "execution_count": 19,
   "metadata": {},
   "outputs": [],
   "source": [
    "# This implementation is based on Dr. Martha White's notes for CMPUT367, page 107. \n",
    "\n",
    "\"\"\"scaling_factor_plot = [[] for j in range(k)]\n",
    "print(scaling_factor_plot)\n",
    "\"\"\"\n",
    "\n",
    "\n",
    "# Starts with random means, variances and weights\n",
    "predicted_mean_traditional = np.random.uniform(low=-5, high=5, size=(k, ))\n",
    "predicted_variance_traditional = np.random.uniform(low=0.5, high=5, size=(k, ))\n",
    "predicted_weights_traditional = np.random.random(size=(k, ))\n",
    "predicted_weights_traditional = predicted_weights_traditional / np.sum(predicted_weights_traditional) #normalising\n",
    "\n",
    "def traditional_EM():\n",
    "\n",
    "    \n",
    "    global predicted_mean_traditional, predicted_variance_traditional, predicted_weights_traditional\n",
    "    divergence_plot = [] # Array for plotting later\n",
    "    counter = 0 # Count iteration for printing divergence\n",
    "    \n",
    "    KL_divergence = KL_div(predicted_mean_traditional, predicted_variance_traditional, predicted_weights_traditional)\n",
    "    print(\"kl div:\", KL_divergence)\n",
    "    prev_divergence = math.inf\n",
    "    \n",
    "    \n",
    "    \n",
    "    while prev_divergence - KL_divergence > 0.0001 and KL_divergence > 0:\n",
    "        \n",
    "        # This is the old implementation using python loops. I need to redo this part in numpy to optimise bc it takes too much time.\n",
    "        \"\"\"for i in range(n):\n",
    "            denominator_sum = 0\n",
    "            for j in range(k):\n",
    "                probability_matrix[i, j] = predicted_weights[j] * pdf(data[i], predicted_mean[j], predicted_variance[j])\n",
    "            \n",
    "            denominator_sum = np.sum(probability_matrix[i, :])\n",
    "            \n",
    "            probability_matrix[i, :] = probability_matrix[i, :] / denominator_sum\"\"\"\n",
    "        \n",
    "        probability_matrix = calculate_p_matrix(data, predicted_mean_traditional, predicted_variance_traditional, predicted_weights_traditional)\n",
    "        # Normalise\n",
    "        probability_matrix = probability_matrix / np.sum(probability_matrix, axis = 1, keepdims=True)\n",
    "        \n",
    "        \"\"\"for j in range(k):\n",
    "            normalised_p_matrix[:, j] = probability_matrix[:, j] / np.sum(probability_matrix[:, j])\n",
    "            scaling_factor_plot[j].append(np.sum(probability_matrix[:, j]))\"\"\"\n",
    "            \n",
    "        normalised_p_matrix = probability_matrix / np.sum(probability_matrix, axis = 0, keepdims=True)\n",
    "        \n",
    "        \n",
    "        # Maximisation step\n",
    "        predicted_weights_traditional = (1/n) * np.sum(probability_matrix, axis = 0)\n",
    "        \n",
    "        mean_matrix = (data * normalised_p_matrix.T).T\n",
    "        predicted_mean_traditional = np.sum(mean_matrix, axis = 0)\n",
    "\n",
    "        predicted_variance_traditional = np.sum(np.multiply(np.power(np.tile(data, (k, 1)).T - predicted_mean_traditional, 2), normalised_p_matrix), axis = 0)\n",
    "        \n",
    "        \n",
    "        diff = prev_divergence - KL_divergence\n",
    "        prev_divergence = KL_divergence\n",
    "        KL_divergence = KL_div(predicted_mean_traditional, predicted_variance_traditional, predicted_weights_traditional)\n",
    "        \n",
    "        if counter % 15 == 0:\n",
    "            print(\"kl div:\", KL_divergence, \" |  iter:\", counter, \" |  difference vs the prev iter:\", diff)\n",
    "            \n",
    "            \n",
    "        divergence_plot.append(KL_divergence)\n",
    "        counter += 1\n",
    "    return divergence_plot\n",
    "\n"
   ]
  },
  {
   "cell_type": "code",
   "execution_count": 20,
   "metadata": {},
   "outputs": [
    {
     "name": "stdout",
     "output_type": "stream",
     "text": [
      "kl div: 8361.293008098175\n",
      "kl div: 218.9404803250058  |  iter: 0  |  difference vs the prev iter: inf\n",
      "kl div: 86.90113525067945  |  iter: 15  |  difference vs the prev iter: 14.997907588345171\n",
      "kl div: 33.04538513725702  |  iter: 30  |  difference vs the prev iter: 0.16885046411981364\n",
      "kl div: 21.34691410849861  |  iter: 45  |  difference vs the prev iter: 1.248883983643779\n",
      "kl div: 18.023187051703292  |  iter: 60  |  difference vs the prev iter: 0.07630593064108027\n",
      "kl div: 16.342356100666173  |  iter: 75  |  difference vs the prev iter: 0.12863567812549448\n",
      "kl div: 14.027308045426768  |  iter: 90  |  difference vs the prev iter: 0.17431900611198436\n",
      "kl div: 10.780813944324885  |  iter: 105  |  difference vs the prev iter: 0.2468555043910019\n",
      "kl div: 7.18364958064344  |  iter: 120  |  difference vs the prev iter: 0.1986917374197681\n",
      "kl div: 5.387925301324608  |  iter: 135  |  difference vs the prev iter: 0.08902542637014665\n",
      "kl div: 4.158274496064383  |  iter: 150  |  difference vs the prev iter: 0.08032856290383172\n",
      "kl div: 3.0401412493319953  |  iter: 165  |  difference vs the prev iter: 0.06834526030877752\n",
      "kl div: 2.2495996974450567  |  iter: 180  |  difference vs the prev iter: 0.04116359920661683\n",
      "kl div: 1.8639392863720747  |  iter: 195  |  difference vs the prev iter: 0.017110748884128668\n",
      "kl div: 1.713370324763674  |  iter: 210  |  difference vs the prev iter: 0.006879518694150821\n",
      "kl div: 1.6384729710942416  |  iter: 225  |  difference vs the prev iter: 0.004234340736326114\n",
      "kl div: 1.5820397739758605  |  iter: 240  |  difference vs the prev iter: 0.0035322500755703423\n",
      "kl div: 1.532981442577319  |  iter: 255  |  difference vs the prev iter: 0.0031029022312027976\n",
      "kl div: 1.4900901102355426  |  iter: 270  |  difference vs the prev iter: 0.002699991132469659\n",
      "kl div: 1.4529586994909507  |  iter: 285  |  difference vs the prev iter: 0.0023317128356039607\n",
      "kl div: 1.4209039466835836  |  iter: 300  |  difference vs the prev iter: 0.002014160256762043\n",
      "kl div: 1.3931400971888153  |  iter: 315  |  difference vs the prev iter: 0.0017485928890814684\n",
      "kl div: 1.3689377815679782  |  iter: 330  |  difference vs the prev iter: 0.0015289152436559483\n",
      "kl div: 1.3476788151507915  |  iter: 345  |  difference vs the prev iter: 0.0013473162207140454\n",
      "kl div: 1.3288582891354181  |  iter: 360  |  difference vs the prev iter: 0.0011965746583308956\n",
      "kl div: 1.3120688747966713  |  iter: 375  |  difference vs the prev iter: 0.0010706867032972411\n",
      "kl div: 1.2969822637114217  |  iter: 390  |  difference vs the prev iter: 0.000964855117258967\n",
      "kl div: 1.2833327488809898  |  iter: 405  |  difference vs the prev iter: 0.0008752934501810028\n",
      "kl div: 1.2709040112343748  |  iter: 420  |  difference vs the prev iter: 0.0007990120674206125\n",
      "kl div: 1.2595188503542156  |  iter: 435  |  difference vs the prev iter: 0.0007336364344743274\n",
      "kl div: 1.2490312766226996  |  iter: 450  |  difference vs the prev iter: 0.0006772656640083863\n",
      "kl div: 1.239320401474653  |  iter: 465  |  difference vs the prev iter: 0.0006283660238211031\n",
      "kl div: 1.230285672444479  |  iter: 480  |  difference vs the prev iter: 0.000585691489799256\n",
      "kl div: 1.2218431135365688  |  iter: 495  |  difference vs the prev iter: 0.0005482241662264631\n",
      "kl div: 1.213922324546423  |  iter: 510  |  difference vs the prev iter: 0.0005151290628122585\n",
      "kl div: 1.2064640621642355  |  iter: 525  |  difference vs the prev iter: 0.0004857191585159182\n",
      "kl div: 1.1994182748725375  |  iter: 540  |  difference vs the prev iter: 0.00045942796453046775\n",
      "kl div: 1.1927424976327563  |  iter: 555  |  difference vs the prev iter: 0.0004357876354941226\n",
      "kl div: 1.1864005357933811  |  iter: 570  |  difference vs the prev iter: 0.00041441127592545257\n",
      "kl div: 1.180361383831623  |  iter: 585  |  difference vs the prev iter: 0.000394978544868696\n",
      "kl div: 1.174598336040108  |  iter: 600  |  difference vs the prev iter: 0.00037722384990068747\n",
      "kl div: 1.1690882546657295  |  iter: 615  |  difference vs the prev iter: 0.00036092666641973636\n",
      "kl div: 1.1638109674490453  |  iter: 630  |  difference vs the prev iter: 0.0003459035681521172\n",
      "kl div: 1.1587487715317026  |  iter: 645  |  difference vs the prev iter: 0.000332001686695671\n",
      "kl div: 1.1538860248005132  |  iter: 660  |  difference vs the prev iter: 0.0003190933251542294\n",
      "kl div: 1.1492088091225836  |  iter: 675  |  difference vs the prev iter: 0.00030707153789810704\n",
      "kl div: 1.144704652664537  |  iter: 690  |  difference vs the prev iter: 0.00029584649123659545\n",
      "kl div: 1.1403623008317507  |  iter: 705  |  difference vs the prev iter: 0.00028534246888756165\n",
      "kl div: 1.1361715272502708  |  iter: 720  |  difference vs the prev iter: 0.0002754954099786211\n",
      "kl div: 1.1321229777870447  |  iter: 735  |  difference vs the prev iter: 0.0002662508646971151\n",
      "kl div: 1.1282080418601537  |  iter: 750  |  difference vs the prev iter: 0.0002575623152070161\n",
      "kl div: 1.1244187463758422  |  iter: 765  |  difference vs the prev iter: 0.0002493897755349028\n",
      "kl div: 1.1207476684239956  |  iter: 780  |  difference vs the prev iter: 0.0002416986327193893\n",
      "kl div: 1.1171878635696357  |  iter: 795  |  difference vs the prev iter: 0.0002344586837563778\n",
      "kl div: 1.113732807131953  |  iter: 810  |  difference vs the prev iter: 0.00022764332882641014\n",
      "kl div: 1.110376346273898  |  iter: 825  |  difference vs the prev iter: 0.00022122890506692805\n",
      "kl div: 1.107112661090304  |  iter: 840  |  difference vs the prev iter: 0.00021519412821557893\n",
      "kl div: 1.1039362331892784  |  iter: 855  |  difference vs the prev iter: 0.0002095196331224347\n",
      "kl div: 1.1008418204962738  |  iter: 870  |  difference vs the prev iter: 0.00020418758104057133\n",
      "kl div: 1.0978244372061858  |  iter: 885  |  difference vs the prev iter: 0.00019918135239738177\n",
      "kl div: 1.0948793379989339  |  iter: 900  |  difference vs the prev iter: 0.00019448527574028596\n",
      "kl div: 1.092002005766265  |  iter: 915  |  difference vs the prev iter: 0.0001900844151707659\n",
      "kl div: 1.0891881422284881  |  iter: 930  |  difference vs the prev iter: 0.0001859643926891419\n",
      "kl div: 1.0864336609446865  |  iter: 945  |  difference vs the prev iter: 0.00018211124004974266\n",
      "kl div: 1.0837346822814033  |  iter: 960  |  difference vs the prev iter: 0.00017851127490220442\n",
      "kl div: 1.0810875300358898  |  iter: 975  |  difference vs the prev iter: 0.00017515100257470273\n",
      "kl div: 1.078488729470454  |  iter: 990  |  difference vs the prev iter: 0.0001720170247607733\n"
     ]
    }
   ],
   "source": [
    "# Will take abt 5 to 10 minutes to run and converge\n",
    "divergence_plot = traditional_EM()"
   ]
  },
  {
   "cell_type": "code",
   "execution_count": 11,
   "metadata": {},
   "outputs": [
    {
     "name": "stdout",
     "output_type": "stream",
     "text": [
      "----- TARGET DISTRIBUTION ------\n",
      "component mean: 11.093515655056404 | variance: 0.9983776144137878 | weight: 0.06567074826540348\n",
      "component mean: 8.024995084401809 | variance: 1.461246521961342 | weight: 0.06175619075881928\n",
      "component mean: -2.0381053017064694 | variance: 1.0235335697928143 | weight: 0.06886512527122608\n",
      "component mean: 3.8593947734665406 | variance: 0.822514869754634 | weight: 0.06992856462694051\n",
      "component mean: 7.569893340114202 | variance: 1.4414188689789331 | weight: 0.06360918298076429\n",
      "component mean: 7.608672593621478 | variance: 1.336110921308137 | weight: 0.061188084903013897\n",
      "component mean: -12.043657481467651 | variance: 0.8531704703894271 | weight: 0.06263635100308068\n",
      "component mean: 0.7451741210689722 | variance: 1.432735783961118 | weight: 0.06886432483258784\n",
      "component mean: -9.220190512949511 | variance: 0.915729795797464 | weight: 0.06847802577982\n",
      "component mean: 7.364692120203532 | variance: 0.8148863630258516 | weight: 0.06118955240794563\n",
      "component mean: -0.15869266821586514 | variance: 1.1857105561111119 | weight: 0.07416281217537231\n",
      "component mean: 3.671457522682079 | variance: 0.9001092067915988 | weight: 0.0757758144800895\n",
      "component mean: -6.942610902661875 | variance: 1.4052213869546815 | weight: 0.05923992592119847\n",
      "component mean: 7.592406746753685 | variance: 1.298767314853977 | weight: 0.0771484642051677\n",
      "component mean: -7.6384664515801335 | variance: 1.213497656088272 | weight: 0.061486832388570556\n",
      "----- LEARNED DISTRIBUTION ------\n",
      "component mean: -2.538659059987731 | variance: 0.4199467901091284 | weight: 0.030102135554150707\n",
      "component mean: 11.036053042993444 | variance: 1.0173652812751008 | weight: 0.06989865361818083\n",
      "component mean: 3.733612547225366 | variance: 4.417589203599107 | weight: 0.019584936240724313\n",
      "component mean: 3.2888505642278254 | variance: 4.103066910762982 | weight: 0.004896287323988012\n",
      "component mean: -1.6720433159249082 | variance: 0.23831556869700649 | weight: 0.01070191094312125\n",
      "component mean: 2.7696518113107396 | variance: 3.254190659339983 | weight: 0.01524314353931283\n",
      "component mean: 3.4191105532998916 | variance: 4.207018362999386 | weight: 0.00559283722251335\n",
      "component mean: 0.874556863836466 | variance: 0.5578743333453329 | weight: 0.025503387068072696\n",
      "component mean: 0.05367214866073938 | variance: 1.2752033968892365 | weight: 0.0075370285568186176\n",
      "component mean: -0.6193642308189758 | variance: 0.9288328812303303 | weight: 0.08158218464062444\n",
      "component mean: 4.155354968764376 | variance: 0.5388252921697428 | weight: 0.03544817899909501\n",
      "component mean: -8.86871972315515 | variance: 5.436314502314496 | weight: 0.2590818263538092\n",
      "component mean: 7.6086085051314045 | variance: 1.237711187634714 | weight: 0.31547655927520774\n",
      "component mean: 0.49757200839002097 | variance: 1.3515811701886349 | weight: 0.0302587974582897\n",
      "component mean: 3.53414517748877 | variance: 0.7667178679073026 | weight: 0.08909213320605688\n"
     ]
    }
   ],
   "source": [
    "print(\"----- TARGET DISTRIBUTION ------\")\n",
    "for i in range(k):\n",
    "    print(\"component mean:\", mean[i], \"| variance:\", variance[i], \"| weight:\", weights[i])\n",
    "\n",
    "print(\"----- LEARNED DISTRIBUTION ------\")\n",
    "for i in range(k):\n",
    "    print(\"component mean:\", predicted_mean_traditional[i], \"| variance:\", predicted_variance_traditional[i], \"| weight:\", predicted_weights_traditional[i])"
   ]
  },
  {
   "cell_type": "code",
   "execution_count": 12,
   "metadata": {},
   "outputs": [
    {
     "data": {
      "image/png": "[encoded data removed]",
      "text/plain": [
       "<Figure size 432x288 with 1 Axes>"
      ]
     },
     "metadata": {
      "needs_background": "light"
     },
     "output_type": "display_data"
    }
   ],
   "source": [
    "plt.plot([i for i in range(len(divergence_plot[15:]))], divergence_plot[15:])\n",
    "plt.xlabel(\"iteration\")\n",
    "plt.ylabel(\"kl_divergence\")\n",
    "plt.show()\n"
   ]
  },
  {
   "cell_type": "code",
   "execution_count": 21,
   "metadata": {},
   "outputs": [
    {
     "data": {
      "image/png": "[encoded data removed]",
      "text/plain": [
       "<Figure size 432x288 with 1 Axes>"
      ]
     },
     "metadata": {
      "needs_background": "light"
     },
     "output_type": "display_data"
    }
   ],
   "source": [
    "learned_mixture_index = np.random.choice(k, size = n, replace = True, p = predicted_weights_traditional)\n",
    "learned_data = np.fromiter((np.random.normal(loc = predicted_mean_traditional[index], scale = np.sqrt([predicted_variance_traditional[index]])[0]) for index in learned_mixture_index), float)\n",
    "assert data.shape == (n, )\n",
    "\n",
    "plt.hist(learned_data, bins=\"auto\", density=True)\n",
    "plt.xlabel(\"x\")\n",
    "plt.ylabel(\"f(x)\")\n",
    "plt.title(\"Learned distribution\")\n",
    "plt.show()"
   ]
  },
  {
   "cell_type": "code",
   "execution_count": 22,
   "metadata": {},
   "outputs": [
    {
     "data": {
      "image/png": "[encoded data removed]",
      "text/plain": [
       "<Figure size 432x288 with 1 Axes>"
      ]
     },
     "metadata": {
      "needs_background": "light"
     },
     "output_type": "display_data"
    }
   ],
   "source": [
    "plt.hist(data, bins=\"auto\", density=True)\n",
    "plt.xlabel(\"x\")\n",
    "plt.ylabel(\"f(x)\")\n",
    "plt.title(\"Actual distribution\")\n",
    "plt.show()"
   ]
  },
  {
   "attachments": {},
   "cell_type": "markdown",
   "metadata": {},
   "source": [
    "# Dynamic-update EM\n",
    "\n",
    "The traditional EM algorithm needs all the datapoint before making any changes to the weights, means and variances. From the idea of reinforcement learning, what if we update every time we see a datapoint (or a batch of datapoints)? In RL, dynamic programming value update will speed up the covergence rate significantly, and is proven to be an unbiased estimator of the actual value function. "
   ]
  },
  {
   "attachments": {},
   "cell_type": "markdown",
   "metadata": {},
   "source": [
    "# 2a. Moving average method\n"
   ]
  },
  {
   "cell_type": "code",
   "execution_count": 28,
   "metadata": {},
   "outputs": [
    {
     "name": "stdout",
     "output_type": "stream",
     "text": [
      "kl div: 9610.633458742042\n",
      "kl div: 239.25685119685684  |  iter: 0  |  difference vs the prev iter: inf\n",
      "kl div: 171.09587478690457  |  iter: 15  |  difference vs the prev iter: 0.6843891756686844\n",
      "kl div: 166.88232202702278  |  iter: 30  |  difference vs the prev iter: 0.16003051082188335\n",
      "kl div: 147.855598717992  |  iter: 45  |  difference vs the prev iter: 0.7993028575611731\n",
      "kl div: 131.1777876783021  |  iter: 60  |  difference vs the prev iter: -0.1186726024861855\n",
      "kl div: 126.75987745668967  |  iter: 75  |  difference vs the prev iter: -0.38797691605780926\n",
      "kl div: 126.23741945765946  |  iter: 90  |  difference vs the prev iter: 0.12061098395122372\n",
      "kl div: 119.24878097327701  |  iter: 105  |  difference vs the prev iter: -1.6938664390414715\n",
      "kl div: 120.39361576863655  |  iter: 120  |  difference vs the prev iter: -0.6600615984554992\n",
      "kl div: 120.96957474174378  |  iter: 135  |  difference vs the prev iter: -0.08547281504588966\n",
      "kl div: 116.80499461374153  |  iter: 150  |  difference vs the prev iter: -0.3689953166324784\n",
      "kl div: 114.63498629599609  |  iter: 165  |  difference vs the prev iter: -0.9107269966659857\n",
      "kl div: 115.65738664206928  |  iter: 180  |  difference vs the prev iter: 0.04876141427061498\n",
      "kl div: 112.28033025767495  |  iter: 195  |  difference vs the prev iter: -1.4257291324223047\n",
      "kl div: 106.80117904368923  |  iter: 210  |  difference vs the prev iter: -0.11486258006071637\n",
      "kl div: 109.98801737553086  |  iter: 225  |  difference vs the prev iter: -0.026715375788896267\n",
      "kl div: 110.81618952226049  |  iter: 240  |  difference vs the prev iter: 0.23903533542934952\n",
      "kl div: 103.91196925371855  |  iter: 255  |  difference vs the prev iter: -0.6032167110707718\n",
      "kl div: 99.58123442360423  |  iter: 270  |  difference vs the prev iter: 0.019161724488498066\n",
      "kl div: 89.32746815779055  |  iter: 285  |  difference vs the prev iter: -0.15824653434385993\n",
      "kl div: 70.67480565272933  |  iter: 300  |  difference vs the prev iter: 0.4100718476359191\n",
      "kl div: 50.00785903321398  |  iter: 315  |  difference vs the prev iter: 0.9958706967277706\n",
      "kl div: 27.741372175090653  |  iter: 330  |  difference vs the prev iter: 0.421348960326025\n",
      "kl div: 19.410961550016246  |  iter: 345  |  difference vs the prev iter: 0.0779196893575076\n",
      "kl div: 17.661187379050286  |  iter: 360  |  difference vs the prev iter: 0.15529119299302607\n",
      "kl div: 16.754508600888997  |  iter: 375  |  difference vs the prev iter: 0.6955977726290463\n",
      "kl div: 16.266518916597917  |  iter: 390  |  difference vs the prev iter: 0.05432291894407015\n",
      "kl div: 15.19295591323118  |  iter: 405  |  difference vs the prev iter: 0.2852598355068796\n",
      "kl div: 16.215808672496355  |  iter: 420  |  difference vs the prev iter: -0.11057834054969717\n",
      "kl div: 13.906635669416582  |  iter: 435  |  difference vs the prev iter: -0.10158914292171595\n",
      "kl div: 14.744369399708601  |  iter: 450  |  difference vs the prev iter: 0.0625832948107714\n",
      "kl div: 13.881198894679079  |  iter: 465  |  difference vs the prev iter: -0.053583533271790884\n",
      "kl div: 11.929582393130962  |  iter: 480  |  difference vs the prev iter: 0.10874223931095273\n",
      "kl div: 12.52089344805897  |  iter: 495  |  difference vs the prev iter: 0.20327064327574718\n",
      "kl div: 13.340314798544169  |  iter: 510  |  difference vs the prev iter: -0.05587980664287784\n",
      "kl div: 12.652842164521477  |  iter: 525  |  difference vs the prev iter: 0.09044767077605798\n",
      "kl div: 12.904912926829054  |  iter: 540  |  difference vs the prev iter: 0.0825050466910735\n",
      "kl div: 12.14323441180587  |  iter: 555  |  difference vs the prev iter: 0.5375923159016409\n",
      "kl div: 12.06356454739606  |  iter: 570  |  difference vs the prev iter: 0.06301232672044499\n",
      "kl div: 11.785718002487885  |  iter: 585  |  difference vs the prev iter: -0.18512786878843812\n",
      "kl div: 10.75981909180299  |  iter: 600  |  difference vs the prev iter: 0.10377813124833501\n",
      "kl div: 11.507048314107406  |  iter: 615  |  difference vs the prev iter: -0.17901901971406708\n",
      "kl div: 12.752232439306518  |  iter: 630  |  difference vs the prev iter: 0.06062999042177886\n",
      "kl div: 10.448921059469527  |  iter: 645  |  difference vs the prev iter: 0.18741858765484132\n",
      "kl div: 12.089614540453983  |  iter: 660  |  difference vs the prev iter: -0.03167900811705948\n",
      "kl div: 9.25789187969056  |  iter: 675  |  difference vs the prev iter: 0.31619884355981576\n",
      "kl div: 9.311497603046574  |  iter: 690  |  difference vs the prev iter: 0.07811890851066394\n",
      "kl div: 8.544509884673385  |  iter: 705  |  difference vs the prev iter: 0.08039986021992718\n",
      "kl div: 7.9019070779895415  |  iter: 720  |  difference vs the prev iter: -0.12292740561700555\n",
      "kl div: 7.331903745378224  |  iter: 735  |  difference vs the prev iter: 0.14047633140605065\n",
      "kl div: 8.889892875121571  |  iter: 750  |  difference vs the prev iter: 0.006502294291352406\n",
      "kl div: 5.084145727146441  |  iter: 765  |  difference vs the prev iter: 0.04626240859411812\n",
      "kl div: 6.508115667043613  |  iter: 780  |  difference vs the prev iter: 0.023412939078461648\n",
      "kl div: 3.400104210994283  |  iter: 795  |  difference vs the prev iter: -0.14966243098747256\n",
      "kl div: 3.007502087132944  |  iter: 810  |  difference vs the prev iter: 0.004606546322151406\n",
      "kl div: 2.4049682471236062  |  iter: 825  |  difference vs the prev iter: 0.3336161060679621\n",
      "kl div: 2.2852728322719082  |  iter: 840  |  difference vs the prev iter: -0.08523980791772434\n",
      "kl div: 1.7751591754875853  |  iter: 855  |  difference vs the prev iter: 0.1977393663788949\n",
      "kl div: 2.9321464707475213  |  iter: 870  |  difference vs the prev iter: 0.01374039891377099\n",
      "kl div: 1.7184757863839493  |  iter: 885  |  difference vs the prev iter: -0.18901555063141484\n",
      "kl div: 3.3624988778833003  |  iter: 900  |  difference vs the prev iter: -0.02808101525877804\n",
      "kl div: 1.8119491056190975  |  iter: 915  |  difference vs the prev iter: -0.11107001301600894\n",
      "kl div: 3.3588339575914494  |  iter: 930  |  difference vs the prev iter: 0.02947451842835047\n",
      "kl div: 1.9357657886933872  |  iter: 945  |  difference vs the prev iter: 0.013421997895432636\n",
      "kl div: 2.533443942133823  |  iter: 960  |  difference vs the prev iter: 0.009487599722457607\n",
      "kl div: 1.8794837773066644  |  iter: 975  |  difference vs the prev iter: 0.33204254674880573\n",
      "kl div: 2.162446228962799  |  iter: 990  |  difference vs the prev iter: 0.15059312515603307\n"
     ]
    }
   ],
   "source": [
    "predicted_mean_dynamic = np.random.uniform(low=-5, high=5, size=(k, ))\n",
    "predicted_variance_dynamic = np.random.uniform(low=0.5, high=5, size=(k, ))\n",
    "predicted_weights_dynamic = np.random.random(size=(k, ))\n",
    "predicted_weights_dynamic = predicted_weights_dynamic / np.sum(predicted_weights_dynamic) \n",
    "def dynamicEM():\n",
    "    global predicted_mean_dynamic, predicted_variance_dynamic, predicted_weights_dynamic\n",
    "    divergence_plot = [] # Array for plotting later\n",
    "    counter = 0 # Count iteration for printing divergence\n",
    "    \n",
    "    KL_divergence = KL_div(predicted_mean_dynamic, predicted_variance_dynamic, predicted_weights_dynamic)\n",
    "    print(\"kl div:\", KL_divergence)\n",
    "    prev_divergence = math.inf\n",
    "    \n",
    "    \n",
    "    while counter < 1000:#prev_divergence - KL_divergence > 0.0001 and KL_divergence > 0:\n",
    "        \n",
    "        # This is the old implementation using python loops. I need to redo this part in numpy to optimise bc it takes too much time.\n",
    "        \"\"\"for i in range(n):\n",
    "            denominator_sum = 0\n",
    "            for j in range(k):\n",
    "                probability_matrix[i, j] = predicted_weights[j] * pdf(data[i], predicted_mean[j], predicted_variance[j])\n",
    "            \n",
    "            denominator_sum = np.sum(probability_matrix[i, :])\n",
    "            \n",
    "            probability_matrix[i, :] = probability_matrix[i, :] / denominator_sum\"\"\"\n",
    "        if counter < 10:\n",
    "            batch_data = data\n",
    "        else:\n",
    "            batch_data = np.random.choice(data, size = (10000, ), replace = False)\n",
    "        \n",
    "        probability_matrix = calculate_p_matrix(batch_data, predicted_mean_dynamic, predicted_variance_dynamic, predicted_weights_dynamic)\n",
    "        # Normalise\n",
    "        probability_matrix = probability_matrix / np.sum(probability_matrix, axis = 1, keepdims=True)\n",
    "        \n",
    "        \"\"\"for j in range(k):\n",
    "            normalised_p_matrix[:, j] = probability_matrix[:, j] / np.sum(probability_matrix[:, j])\n",
    "            scaling_factor_plot[j].append(np.sum(probability_matrix[:, j]))\"\"\"\n",
    "            \n",
    "        normalised_p_matrix = probability_matrix / np.sum(probability_matrix, axis = 0, keepdims=True)\n",
    "        \n",
    "        \n",
    "        if counter < 10 or counter % 10 == 0:\n",
    "\n",
    "            # Maximisation step\n",
    "            predicted_weights_dynamic = (1/len(batch_data)) * np.sum(probability_matrix, axis = 0)\n",
    "            \n",
    "            mean_matrix = (batch_data * normalised_p_matrix.T).T\n",
    "            predicted_mean_dynamic = np.sum(mean_matrix, axis = 0)\n",
    "\n",
    "            predicted_variance_dynamic = np.sum(np.multiply(np.power(np.tile(batch_data, (k, 1)).T - predicted_mean_dynamic, 2), normalised_p_matrix), axis = 0)\n",
    "        else:\n",
    "            predicted_weights_dynamic += ((1/len(batch_data)) * np.sum(probability_matrix, axis = 0) - predicted_weights_dynamic) / ((counter % 10) + 1)\n",
    "            \n",
    "            mean_matrix = (batch_data * normalised_p_matrix.T).T\n",
    "            \n",
    "            predicted_mean_dynamic += (np.sum(mean_matrix, axis = 0) - predicted_mean_dynamic) / ((counter % 10) + 1)\n",
    "            #0.01 * 2 *(predicted_mean_dynamic - np.sum(mean_matrix, axis = 0))\n",
    "            predicted_variance_dynamic += (np.sum(np.multiply(np.power(np.tile(batch_data, (k, 1)).T - predicted_mean_dynamic, 2), normalised_p_matrix), axis = 0) - predicted_variance_dynamic) / ((counter % 10) + 1)\n",
    "            #0.01 * 2 * (predicted_variance_dynamic - np.sum(np.multiply(np.power(np.tile(batch_data, (k, 1)).T - predicted_mean_dynamic, 2), normalised_p_matrix), axis = 0))\n",
    "            #0.00001 * (np.sum(probability_matrix, axis = 0) / predicted_variance_dynamic + 3* np.sum(np.multiply(np.power(np.tile(batch_data, (k, 1)).T - predicted_mean_dynamic, 2), probability_matrix), axis = 0)/np.power(predicted_variance_dynamic, 2))\n",
    "    \n",
    "        #print(\"mean:\", predicted_mean_dynamic, \" |  variance:\", predicted_variance_dynamic, \" |  weights:\", predicted_weights_dynamic)\n",
    "        diff = prev_divergence - KL_divergence\n",
    "        prev_divergence = KL_divergence\n",
    "        KL_divergence = KL_div(predicted_mean_dynamic, predicted_variance_dynamic, predicted_weights_dynamic)\n",
    "        \n",
    "        if counter % 15 == 0:\n",
    "            print(\"kl div:\", KL_divergence, \" |  iter:\", counter, \" |  difference vs the prev iter:\", diff)\n",
    "            \n",
    "            \n",
    "        divergence_plot.append(KL_divergence)\n",
    "        counter += 1\n",
    "    return divergence_plot\n",
    "\n",
    "divergence_plot = dynamicEM()"
   ]
  },
  {
   "cell_type": "code",
   "execution_count": 29,
   "metadata": {},
   "outputs": [
    {
     "data": {
      "image/png": "[encoded data removed]",
      "text/plain": [
       "<Figure size 432x288 with 1 Axes>"
      ]
     },
     "metadata": {
      "needs_background": "light"
     },
     "output_type": "display_data"
    }
   ],
   "source": [
    "plt.plot([i for i in range(len(divergence_plot[15:]))], divergence_plot[15:])\n",
    "plt.xlabel(\"iteration\")\n",
    "plt.ylabel(\"kl_divergence\")\n",
    "plt.show()\n"
   ]
  },
  {
   "cell_type": "code",
   "execution_count": 30,
   "metadata": {},
   "outputs": [
    {
     "data": {
      "image/png": "[encoded data removed]",
      "text/plain": [
       "<Figure size 432x288 with 1 Axes>"
      ]
     },
     "metadata": {
      "needs_background": "light"
     },
     "output_type": "display_data"
    }
   ],
   "source": [
    "learned_mixture_index = np.random.choice(k, size = n, replace = True, p = predicted_weights_dynamic)\n",
    "learned_data = np.fromiter((np.random.normal(loc = predicted_mean_dynamic[index], scale = np.sqrt([predicted_variance_dynamic[index]])[0]) for index in learned_mixture_index), float)\n",
    "assert data.shape == (n, )\n",
    "\n",
    "plt.hist(learned_data, bins=\"auto\", density=True)\n",
    "plt.xlabel(\"x\")\n",
    "plt.ylabel(\"f(x)\")\n",
    "plt.title(\"Learned distribution\")\n",
    "plt.show()"
   ]
  },
  {
   "cell_type": "code",
   "execution_count": 31,
   "metadata": {},
   "outputs": [
    {
     "data": {
      "image/png": "[encoded data removed]",
      "text/plain": [
       "<Figure size 432x288 with 1 Axes>"
      ]
     },
     "metadata": {
      "needs_background": "light"
     },
     "output_type": "display_data"
    }
   ],
   "source": [
    "plt.hist(data, bins=\"auto\", density=True)\n",
    "plt.xlabel(\"x\")\n",
    "plt.ylabel(\"f(x)\")\n",
    "plt.title(\"Actual distribution\")\n",
    "plt.show()"
   ]
  }
 ],
 "metadata": {
  "kernelspec": {
   "display_name": "Python 3",
   "language": "python",
   "name": "python3"
  },
  "language_info": {
   "codemirror_mode": {
    "name": "ipython",
    "version": 3
   },
   "file_extension": ".py",
   "mimetype": "text/x-python",
   "name": "python",
   "nbconvert_exporter": "python",
   "pygments_lexer": "ipython3",
   "version": "3.10.9"
  },
  "orig_nbformat": 4,
  "vscode": {
   "interpreter": {
    "hash": "7e145918ee62325bb783ae69933f229276b5458d89ab4d949d12da7376064d41"
   }
  }
 },
 "nbformat": 4,
 "nbformat_minor": 2
}
