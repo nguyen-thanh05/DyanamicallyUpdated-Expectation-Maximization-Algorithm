{
 "cells": [
  {
   "cell_type": "code",
   "execution_count": 1,
   "metadata": {},
   "outputs": [],
   "source": [
    "import numpy as np\n",
    "import matplotlib.pyplot as plt\n",
    "import math\n"
   ]
  },
  {
   "attachments": {},
   "cell_type": "markdown",
   "metadata": {},
   "source": [
    "# Step 1: Generate the data \n",
    "I'm aiming to generate 100000 datapoints from a Gaussian mixture model of k = 15 components. For simplicity, each datapoint is a scalar (1-dimension). \n",
    "To make it more realistic, I will random the weight of each component."
   ]
  },
  {
   "cell_type": "code",
   "execution_count": 2,
   "metadata": {},
   "outputs": [],
   "source": [
    "n = 100000 # Number of datapoints\n",
    "k = 15 # Number of components\n",
    "\n",
    "# Randomising the weights\n",
    "weights = np.random.uniform(low = 0.75, high = 1, size=(k, ))\n",
    "weights = weights / np.sum(weights) \n",
    "assert abs(np.sum(weights) - 1) < 0.0000001 # Ensuring a convex linear combination\n",
    "\n",
    "# Decide which component we will sample from\n",
    "mixture_index = np.random.choice(k, size = n, replace = True, p = weights)\n",
    "assert mixture_index.shape == (n, )\n",
    "\n",
    "# Decide the random mean and variance of all 100 components\n",
    "mean = np.random.uniform(low=-12.5, high=12.5, size=(k, ))\n",
    "variance = np.random.uniform(low=0.75, high=1.5, size=(k, ))\n"
   ]
  },
  {
   "cell_type": "code",
   "execution_count": 3,
   "metadata": {},
   "outputs": [],
   "source": [
    "# Generate data using numpy for efficiency\n",
    "data = np.fromiter((np.random.normal(loc = mean[index], scale = np.sqrt([variance[index]])[0]) for index in mixture_index), float)\n",
    "assert data.shape == (n, )"
   ]
  },
  {
   "cell_type": "code",
   "execution_count": 4,
   "metadata": {},
   "outputs": [
    {
     "data": {
      "image/png": "[encoded data removed]",
      "text/plain": [
       "<Figure size 432x288 with 1 Axes>"
      ]
     },
     "metadata": {
      "needs_background": "light"
     },
     "output_type": "display_data"
    }
   ],
   "source": [
    "plt.hist(data, bins=\"auto\", density=True)\n",
    "plt.xlabel(\"x\")\n",
    "plt.ylabel(\"f(x)\")\n",
    "plt.show()"
   ]
  },
  {
   "attachments": {},
   "cell_type": "markdown",
   "metadata": {},
   "source": [
    "# Step 2: The traditional EM algorithm\n",
    "The algorithm includes finding the probability of each point belonging to each component, then tune the mean and variance of each component according the the calculated probabilities. "
   ]
  },
  {
   "cell_type": "code",
   "execution_count": 5,
   "metadata": {},
   "outputs": [],
   "source": [
    "\n",
    "# First, define a way to calculate pdf \n",
    "# This function is actually not used due to its low efficiency. See function calculate_p_matrix below\n",
    "def pdf(x, input_mean, input_var):\n",
    "    return math.exp(-0.5 * ((x - input_mean) ** 2 ) / input_var) / (math.sqrt(2 * math.pi * input_var))\n",
    "\n",
    "# Test the function\n",
    "assert pdf(0, 0, 1) == 0.3989422804014327\n",
    "assert pdf(0.5, 0, 1) == 0.3520653267642995\n"
   ]
  },
  {
   "cell_type": "code",
   "execution_count": 6,
   "metadata": {},
   "outputs": [],
   "source": [
    "# Using numpy to calculate pdf\n",
    "# Note that this p matrix is not yet normalised\n",
    "def calculate_p_matrix(x, input_mean, input_var, input_weight):\n",
    "    # Duplicate data so dimensions work out\n",
    "    mean_matrix = np.tile(input_mean, (len(x), 1)).T\n",
    "    variance_matrix = np.tile(input_var, (len(x), 1)).T\n",
    "    weight_matrix = np.tile(input_weight, (len(x), 1)).T\n",
    "    \n",
    "    # PDF calculation\n",
    "    p_matrix = weight_matrix * np.exp(-0.5 * np.power(x - mean_matrix, 2) / variance_matrix) / (np.sqrt(2 * np.pi * variance_matrix))\n",
    "    \n",
    "    p_matrix = p_matrix.transpose(1, 0)\n",
    "    \n",
    "    return p_matrix\n"
   ]
  },
  {
   "cell_type": "code",
   "execution_count": 7,
   "metadata": {},
   "outputs": [
    {
     "name": "stdout",
     "output_type": "stream",
     "text": [
      "new [0.03701252 0.04243266 0.03601337 ... 0.04932846 0.03027117 0.04737035]\n",
      "old [0.03701252 0.04243266 0.03601337 ... 0.04932846 0.03027117 0.04737035]\n"
     ]
    }
   ],
   "source": [
    "# Define a metric to evaluate our return from EM alg.\n",
    "# Hardcoded P_value to save time\n",
    "\n",
    "# Old implementation\n",
    "old_P_value = np.zeros((n,))\n",
    "for i in range(n):\n",
    "    for j in range(k):\n",
    "        old_P_value[i] += weights[j] * pdf(data[i], mean[j], variance[j])\n",
    "\n",
    "\n",
    "# New implementation with numpy, more efficient\n",
    "P_value = np.sum(calculate_p_matrix(data, mean, variance, weights), axis = 1)\n",
    "   \n",
    "print(\"new\", P_value)\n",
    "print(\"old\", old_P_value)"
   ]
  },
  {
   "cell_type": "code",
   "execution_count": 8,
   "metadata": {},
   "outputs": [],
   "source": [
    "\n",
    "# KL divergence is an integral from -inf to +inf, in this case, I only use the n datapoints that we already generated.\n",
    "# The addition of - P + Q was inspired by scipy's implementation of KL divergence. Apparently, it prevents KL divergence from going negative\n",
    "def KL_div(pred_mean, pred_variance, pred_weights):\n",
    "    # Old implementation\n",
    "    \"\"\"KL_divergence = 0\n",
    "    for i in range(n):\n",
    "        Q_value = 0\n",
    "        for j in range(k):\n",
    "            Q_value += pred_weights[j] * pdf(data[i], pred_mean[j], pred_variance[j])\n",
    "            #P_value += weights[j] * pdf(data[i], mean[j], variance[j])\n",
    "        KL_divergence += P_value[i] * math.log(P_value[i]/Q_value, math.e) - P_value[i] + Q_value\"\"\"\n",
    "    \n",
    "    \n",
    "    # New implementation\n",
    "    Q_value = np.sum(calculate_p_matrix(data, pred_mean, pred_variance, pred_weights), axis = 1)\n",
    "    \n",
    "    KL_divergence = np.sum(P_value * np.log(P_value / Q_value) - P_value + Q_value)\n",
    "    \n",
    "    return KL_divergence\n",
    "    \n",
    "assert KL_div(mean, variance, weights) == 0\n",
    "\n"
   ]
  },
  {
   "cell_type": "code",
   "execution_count": 9,
   "metadata": {},
   "outputs": [],
   "source": [
    "# This implementation is based on Dr. Martha White's notes for CMPUT367, page 107. \n",
    "\n",
    "\"\"\"scaling_factor_plot = [[] for j in range(k)]\n",
    "print(scaling_factor_plot)\n",
    "\"\"\"\n",
    "\n",
    "\n",
    "# Starts with random means, variances and weights\n",
    "predicted_mean_traditional = np.random.uniform(low=-5, high=5, size=(k, ))\n",
    "predicted_variance_traditional = np.random.uniform(low=0.5, high=5, size=(k, ))\n",
    "predicted_weights_traditional = np.random.random(size=(k, ))\n",
    "predicted_weights_traditional = predicted_weights_traditional / np.sum(predicted_weights_traditional) #normalising\n",
    "\n",
    "def traditional_EM():\n",
    "\n",
    "    \n",
    "    global predicted_mean_traditional, predicted_variance_traditional, predicted_weights_traditional\n",
    "    divergence_plot = [] # Array for plotting later\n",
    "    counter = 0 # Count iteration for printing divergence\n",
    "    \n",
    "    KL_divergence = KL_div(predicted_mean_traditional, predicted_variance_traditional, predicted_weights_traditional)\n",
    "    print(\"kl div:\", KL_divergence)\n",
    "    prev_divergence = math.inf\n",
    "    \n",
    "    \n",
    "    \n",
    "    while prev_divergence - KL_divergence > 0.0001 and KL_divergence > 0:\n",
    "        \n",
    "        # This is the old implementation using python loops. I need to redo this part in numpy to optimise bc it takes too much time.\n",
    "        \"\"\"for i in range(n):\n",
    "            denominator_sum = 0\n",
    "            for j in range(k):\n",
    "                probability_matrix[i, j] = predicted_weights[j] * pdf(data[i], predicted_mean[j], predicted_variance[j])\n",
    "            \n",
    "            denominator_sum = np.sum(probability_matrix[i, :])\n",
    "            \n",
    "            probability_matrix[i, :] = probability_matrix[i, :] / denominator_sum\"\"\"\n",
    "        \n",
    "        probability_matrix = calculate_p_matrix(data, predicted_mean_traditional, predicted_variance_traditional, predicted_weights_traditional)\n",
    "        # Normalise\n",
    "        probability_matrix = probability_matrix / np.sum(probability_matrix, axis = 1, keepdims=True)\n",
    "        \n",
    "        \"\"\"for j in range(k):\n",
    "            normalised_p_matrix[:, j] = probability_matrix[:, j] / np.sum(probability_matrix[:, j])\n",
    "            scaling_factor_plot[j].append(np.sum(probability_matrix[:, j]))\"\"\"\n",
    "            \n",
    "        normalised_p_matrix = probability_matrix / np.sum(probability_matrix, axis = 0, keepdims=True)\n",
    "        \n",
    "        \n",
    "        # Maximisation step\n",
    "        predicted_weights_traditional = (1/n) * np.sum(probability_matrix, axis = 0)\n",
    "        \n",
    "        mean_matrix = (data * normalised_p_matrix.T).T\n",
    "        predicted_mean_traditional = np.sum(mean_matrix, axis = 0)\n",
    "\n",
    "        predicted_variance_traditional = np.sum(np.multiply(np.power(np.tile(data, (k, 1)).T - predicted_mean_traditional, 2), normalised_p_matrix), axis = 0)\n",
    "        \n",
    "        \n",
    "        diff = prev_divergence - KL_divergence\n",
    "        prev_divergence = KL_divergence\n",
    "        KL_divergence = KL_div(predicted_mean_traditional, predicted_variance_traditional, predicted_weights_traditional)\n",
    "        \n",
    "        if counter % 15 == 0:\n",
    "            print(\"kl div:\", KL_divergence, \" |  iter:\", counter, \" |  difference vs the prev iter:\", diff)\n",
    "            \n",
    "            \n",
    "        divergence_plot.append(KL_divergence)\n",
    "        counter += 1\n",
    "    return divergence_plot\n",
    "\n"
   ]
  },
  {
   "cell_type": "code",
   "execution_count": 10,
   "metadata": {},
   "outputs": [
    {
     "name": "stdout",
     "output_type": "stream",
     "text": [
      "kl div: 5458.433301781226\n",
      "kl div: 361.60194451609357  |  iter: 0  |  difference vs the prev iter: inf\n",
      "kl div: 81.9472432476312  |  iter: 15  |  difference vs the prev iter: 1.7499893858746702\n",
      "kl div: 56.61206693776511  |  iter: 30  |  difference vs the prev iter: 1.8610506688882325\n",
      "kl div: 23.72212568012575  |  iter: 45  |  difference vs the prev iter: 2.365576111707849\n",
      "kl div: 6.148227446140358  |  iter: 60  |  difference vs the prev iter: 0.44718110497620245\n",
      "kl div: 3.1930106711112254  |  iter: 75  |  difference vs the prev iter: 0.09371032913486266\n",
      "kl div: 2.592033628899608  |  iter: 90  |  difference vs the prev iter: 0.021278891036708103\n",
      "kl div: 2.395762011723056  |  iter: 105  |  difference vs the prev iter: 0.009889862952941808\n",
      "kl div: 2.283216776508712  |  iter: 120  |  difference vs the prev iter: 0.006216080879122732\n",
      "kl div: 2.209975655639958  |  iter: 135  |  difference vs the prev iter: 0.004170299010805234\n",
      "kl div: 2.1555855592558504  |  iter: 150  |  difference vs the prev iter: 0.003414836667811727\n",
      "kl div: 2.104124916627836  |  iter: 165  |  difference vs the prev iter: 0.003509476559238056\n",
      "kl div: 2.0484774282351688  |  iter: 180  |  difference vs the prev iter: 0.0038438947967325277\n",
      "kl div: 1.988575040225684  |  iter: 195  |  difference vs the prev iter: 0.004069177898576193\n",
      "kl div: 1.926979228782873  |  iter: 210  |  difference vs the prev iter: 0.004108539950317791\n",
      "kl div: 1.8661278104383332  |  iter: 225  |  difference vs the prev iter: 0.004008651254014506\n",
      "kl div: 1.807488051063723  |  iter: 240  |  difference vs the prev iter: 0.0038376884219526453\n",
      "kl div: 1.7516426421507763  |  iter: 255  |  difference vs the prev iter: 0.0036461440520405564\n",
      "kl div: 1.6986399421266667  |  iter: 270  |  difference vs the prev iter: 0.00345990627058268\n",
      "kl div: 1.64832608627548  |  iter: 285  |  difference vs the prev iter: 0.0032851504699933365\n",
      "kl div: 1.6005690841729765  |  iter: 300  |  difference vs the prev iter: 0.0031164336957318906\n",
      "kl div: 1.5553595503495405  |  iter: 315  |  difference vs the prev iter: 0.0029447358050049832\n",
      "kl div: 1.5128045952680123  |  iter: 330  |  difference vs the prev iter: 0.0027637893083973797\n",
      "kl div: 1.473051540472798  |  iter: 345  |  difference vs the prev iter: 0.0025735410967056005\n",
      "kl div: 1.4361893332227758  |  iter: 360  |  difference vs the prev iter: 0.0023803396368864416\n",
      "kl div: 1.4021716331040244  |  iter: 375  |  difference vs the prev iter: 0.002194567627152866\n",
      "kl div: 1.370786424568064  |  iter: 390  |  difference vs the prev iter: 0.0020272755184547187\n",
      "kl div: 1.3416727917345392  |  iter: 405  |  difference vs the prev iter: 0.001887349001346017\n",
      "kl div: 1.314368549693324  |  iter: 420  |  difference vs the prev iter: 0.0017800155001874707\n",
      "kl div: 1.2883679697254  |  iter: 435  |  difference vs the prev iter: 0.0017066753560237569\n",
      "kl div: 1.2631737354004098  |  iter: 450  |  difference vs the prev iter: 0.0016655809165706525\n",
      "kl div: 1.2383353934668846  |  iter: 465  |  difference vs the prev iter: 0.001652820235230612\n",
      "kl div: 1.2134735115122637  |  iter: 480  |  difference vs the prev iter: 0.0016632107882468272\n",
      "kl div: 1.1882928989736858  |  iter: 495  |  difference vs the prev iter: 0.0016909047767033059\n",
      "kl div: 1.1625896867293999  |  iter: 510  |  difference vs the prev iter: 0.0017296722614541515\n",
      "kl div: 1.1362564695373565  |  iter: 525  |  difference vs the prev iter: 0.0017729439465086205\n",
      "kl div: 1.109287811430368  |  iter: 540  |  difference vs the prev iter: 0.00181376475267081\n",
      "kl div: 1.0817858931998436  |  iter: 555  |  difference vs the prev iter: 0.0018448307521101714\n",
      "kl div: 1.053963735140964  |  iter: 570  |  difference vs the prev iter: 0.0018587472906885782\n",
      "kl div: 1.0261421042193604  |  iter: 585  |  difference vs the prev iter: 0.001848558014144741\n",
      "kl div: 0.9987364313459154  |  iter: 600  |  difference vs the prev iter: 0.0018084889241256619\n",
      "kl div: 0.9722315919038202  |  iter: 615  |  difference vs the prev iter: 0.0017347825728032396\n",
      "kl div: 0.9471444433510424  |  iter: 630  |  difference vs the prev iter: 0.0016264848828277945\n",
      "kl div: 0.9239760216778427  |  iter: 645  |  difference vs the prev iter: 0.0014860514518169055\n",
      "kl div: 0.9031574919844347  |  iter: 660  |  difference vs the prev iter: 0.0013196131026771418\n",
      "kl div: 0.8849967763063453  |  iter: 675  |  difference vs the prev iter: 0.0011366951528881675\n",
      "kl div: 0.8696358144146868  |  iter: 690  |  difference vs the prev iter: 0.000949206350947307\n",
      "kl div: 0.8570297454316145  |  iter: 705  |  difference vs the prev iter: 0.0007696968765446011\n",
      "kl div: 0.8469563659844023  |  iter: 720  |  difference vs the prev iter: 0.0006092242161771511\n",
      "kl div: 0.8390561668301175  |  iter: 735  |  difference vs the prev iter: 0.0004754731235206977\n",
      "kl div: 0.8328930386204769  |  iter: 750  |  difference vs the prev iter: 0.00037178060225784293\n",
      "kl div: 0.8280190250245422  |  iter: 765  |  difference vs the prev iter: 0.0002973363370214477\n",
      "kl div: 0.8240272030363582  |  iter: 780  |  difference vs the prev iter: 0.00024830656581287247\n",
      "kl div: 0.8205837614959537  |  iter: 795  |  difference vs the prev iter: 0.00021931677830500096\n",
      "kl div: 0.8174388713957004  |  iter: 810  |  difference vs the prev iter: 0.00020476447622541638\n",
      "kl div: 0.8144217279829564  |  iter: 825  |  difference vs the prev iter: 0.00019968514017820738\n",
      "kl div: 0.8114269001042065  |  iter: 840  |  difference vs the prev iter: 0.00020015058117806017\n",
      "kl div: 0.8083979911461416  |  iter: 855  |  difference vs the prev iter: 0.00020332228325481427\n",
      "kl div: 0.8053123996315454  |  iter: 870  |  difference vs the prev iter: 0.00020731236628457328\n",
      "kl div: 0.8021689268327254  |  iter: 885  |  difference vs the prev iter: 0.00021097254845170443\n",
      "kl div: 0.798978603834578  |  iter: 900  |  difference vs the prev iter: 0.00021368372523955514\n",
      "kl div: 0.795758390410251  |  iter: 915  |  difference vs the prev iter: 0.00021517959040318058\n",
      "kl div: 0.792527134275807  |  iter: 930  |  difference vs the prev iter: 0.00021541318848861124\n",
      "kl div: 0.7893031683974562  |  iter: 945  |  difference vs the prev iter: 0.00021446299609495512\n",
      "kl div: 0.7861030226140655  |  iter: 960  |  difference vs the prev iter: 0.00021247058942719388\n",
      "kl div: 0.7829408522360533  |  iter: 975  |  difference vs the prev iter: 0.00020960149483939539\n",
      "kl div: 0.779828302143089  |  iter: 990  |  difference vs the prev iter: 0.00020602207288344943\n",
      "kl div: 0.7767746171646667  |  iter: 1005  |  difference vs the prev iter: 0.0002018869564358594\n",
      "kl div: 0.7737868771490124  |  iter: 1020  |  difference vs the prev iter: 0.0001973331503706266\n",
      "kl div: 0.7708702820420462  |  iter: 1035  |  difference vs the prev iter: 0.00019247812736455927\n",
      "kl div: 0.768028443493269  |  iter: 1050  |  difference vs the prev iter: 0.0001874201944362941\n",
      "kl div: 0.7652636594755946  |  iter: 1065  |  difference vs the prev iter: 0.0001822400241570099\n",
      "kl div: 0.7625771607261791  |  iter: 1080  |  difference vs the prev iter: 0.00017700269837606086\n",
      "kl div: 0.7599693251329065  |  iter: 1095  |  difference vs the prev iter: 0.00017175986927620013\n",
      "kl div: 0.7574398602551139  |  iter: 1110  |  difference vs the prev iter: 0.00016655184532987644\n",
      "kl div: 0.7549879563035744  |  iter: 1125  |  difference vs the prev iter: 0.00016140947122633698\n",
      "kl div: 0.7526124127741489  |  iter: 1140  |  difference vs the prev iter: 0.00015635579958173107\n",
      "kl div: 0.750311742222373  |  iter: 1155  |  difference vs the prev iter: 0.00015140751655695617\n",
      "kl div: 0.7480842544809791  |  iter: 1170  |  difference vs the prev iter: 0.00014657616851776467\n",
      "kl div: 0.7459281243768654  |  iter: 1185  |  difference vs the prev iter: 0.0001418691810222139\n",
      "kl div: 0.7438414456073368  |  iter: 1200  |  difference vs the prev iter: 0.00013729072101331674\n",
      "kl div: 0.7418222730917399  |  iter: 1215  |  difference vs the prev iter: 0.0001328424036310949\n",
      "kl div: 0.7398686557618191  |  iter: 1230  |  difference vs the prev iter: 0.0001285238877881678\n",
      "kl div: 0.7379786614654613  |  iter: 1245  |  difference vs the prev iter: 0.00012433335617956232\n",
      "kl div: 0.7361503953973969  |  iter: 1260  |  difference vs the prev iter: 0.00012026791718122709\n",
      "kl div: 0.7343820132418241  |  iter: 1275  |  difference vs the prev iter: 0.00011632392680460679\n",
      "kl div: 0.7326717300431266  |  iter: 1290  |  difference vs the prev iter: 0.00011249725111184272\n",
      "kl div: 0.7310178256400852  |  iter: 1305  |  difference vs the prev iter: 0.00010878346861642463\n",
      "kl div: 0.7294186473851182  |  iter: 1320  |  difference vs the prev iter: 0.00010517804407916831\n",
      "kl div: 0.727872610748625  |  iter: 1335  |  difference vs the prev iter: 0.00010167644749425886\n"
     ]
    }
   ],
   "source": [
    "# Will take abt 5 to 10 minutes to run and converge\n",
    "divergence_plot = traditional_EM()"
   ]
  },
  {
   "cell_type": "code",
   "execution_count": 11,
   "metadata": {},
   "outputs": [
    {
     "name": "stdout",
     "output_type": "stream",
     "text": [
      "----- TARGET DISTRIBUTION ------\n",
      "component mean: -11.672613653432812 | variance: 1.0318433374469609 | weight: 0.05922185651796089\n",
      "component mean: -1.6074978744599928 | variance: 1.4333473867299162 | weight: 0.07063756819430572\n",
      "component mean: 4.094745312277848 | variance: 1.118858920609918 | weight: 0.061811751433560595\n",
      "component mean: 2.0572158547178674 | variance: 0.9587485734299261 | weight: 0.06393055931356285\n",
      "component mean: 5.63144232576137 | variance: 1.4184678949321632 | weight: 0.06587811082683495\n",
      "component mean: 4.091217942458851 | variance: 1.1522444150442825 | weight: 0.06951439624583526\n",
      "component mean: 11.223438473589585 | variance: 0.8535344460937175 | weight: 0.07267766848694315\n",
      "component mean: -3.812700078255112 | variance: 1.1586812443684433 | weight: 0.06103108899649268\n",
      "component mean: 7.370933412557804 | variance: 0.8590739652181271 | weight: 0.07226443611739235\n",
      "component mean: -4.854918987713738 | variance: 0.9630536117705006 | weight: 0.07158472816691576\n",
      "component mean: 5.248183204935533 | variance: 1.1963936252413494 | weight: 0.06463054296978654\n",
      "component mean: -10.965718209702032 | variance: 0.8555609658043344 | weight: 0.06282529358450628\n",
      "component mean: -0.7757519952718983 | variance: 0.8064832113266853 | weight: 0.06839975764864731\n",
      "component mean: -1.5849420222917612 | variance: 1.3038320161128822 | weight: 0.07331186728708637\n",
      "component mean: 10.261401355035058 | variance: 1.1548982524749443 | weight: 0.06228037421016924\n",
      "----- LEARNED DISTRIBUTION ------\n",
      "component mean: 4.614968731055825 | variance: 0.642473540722281 | weight: 0.07523892664905237\n",
      "component mean: 6.594853587055508 | variance: 2.1438111871766075 | weight: 0.1697323805628524\n",
      "component mean: -2.569126284165913 | variance: 1.6003723770859521 | weight: 0.0365813076266676\n",
      "component mean: -2.7886670057764777 | variance: 1.5282366211694909 | weight: 0.01776924353333551\n",
      "component mean: -4.868252289669841 | variance: 0.8860048567437382 | weight: 0.08306084976826117\n",
      "component mean: 10.918302371501078 | variance: 1.0024323470087217 | weight: 0.12329773852193951\n",
      "component mean: 0.9964763934663229 | variance: 4.896776359267162 | weight: 0.027489401306351045\n",
      "component mean: 4.545154467409141 | variance: 4.720864984153444 | weight: 0.004047279884487399\n",
      "component mean: -1.1814787847994008 | variance: 0.6062947070713004 | weight: 0.09211280399789665\n",
      "component mean: -2.8313525726084032 | variance: 1.5102080579573036 | weight: 0.07040741134366106\n",
      "component mean: -11.30106806494969 | variance: 1.059022080825318 | weight: 0.11979207103926413\n",
      "component mean: -0.26378271071181003 | variance: 0.3145850063054937 | weight: 0.02382312637544145\n",
      "component mean: 3.252321006597234 | variance: 0.7331218323297064 | weight: 0.022094574089584387\n",
      "component mean: 3.814826433843832 | variance: 4.682479469384752 | weight: 0.02301464863289534\n",
      "component mean: 2.928858278988681 | variance: 2.9437825110528104 | weight: 0.1115382366682844\n"
     ]
    }
   ],
   "source": [
    "print(\"----- TARGET DISTRIBUTION ------\")\n",
    "for i in range(k):\n",
    "    print(\"component mean:\", mean[i], \"| variance:\", variance[i], \"| weight:\", weights[i])\n",
    "\n",
    "print(\"----- LEARNED DISTRIBUTION ------\")\n",
    "for i in range(k):\n",
    "    print(\"component mean:\", predicted_mean_traditional[i], \"| variance:\", predicted_variance_traditional[i], \"| weight:\", predicted_weights_traditional[i])"
   ]
  },
  {
   "cell_type": "code",
   "execution_count": 12,
   "metadata": {},
   "outputs": [
    {
     "data": {
      "image/png": "[encoded data removed]",
      "text/plain": [
       "<Figure size 432x288 with 1 Axes>"
      ]
     },
     "metadata": {
      "needs_background": "light"
     },
     "output_type": "display_data"
    }
   ],
   "source": [
    "plt.plot([i for i in range(len(divergence_plot[15:]))], divergence_plot[15:])\n",
    "plt.xlabel(\"iteration\")\n",
    "plt.ylabel(\"kl_divergence\")\n",
    "plt.show()\n"
   ]
  },
  {
   "cell_type": "code",
   "execution_count": 13,
   "metadata": {},
   "outputs": [
    {
     "data": {
      "image/png": "[encoded data removed]",
      "text/plain": [
       "<Figure size 432x288 with 1 Axes>"
      ]
     },
     "metadata": {
      "needs_background": "light"
     },
     "output_type": "display_data"
    }
   ],
   "source": [
    "learned_mixture_index = np.random.choice(k, size = n, replace = True, p = predicted_weights_traditional)\n",
    "learned_data = np.fromiter((np.random.normal(loc = predicted_mean_traditional[index], scale = np.sqrt([predicted_variance_traditional[index]])[0]) for index in learned_mixture_index), float)\n",
    "assert data.shape == (n, )\n",
    "\n",
    "plt.hist(learned_data, bins=\"auto\", density=True)\n",
    "plt.xlabel(\"x\")\n",
    "plt.ylabel(\"f(x)\")\n",
    "plt.title(\"Learned distribution\")\n",
    "plt.show()"
   ]
  },
  {
   "cell_type": "code",
   "execution_count": 14,
   "metadata": {},
   "outputs": [
    {
     "data": {
      "image/png": "[encoded data removed]",
      "text/plain": [
       "<Figure size 432x288 with 1 Axes>"
      ]
     },
     "metadata": {
      "needs_background": "light"
     },
     "output_type": "display_data"
    }
   ],
   "source": [
    "plt.hist(data, bins=\"auto\", density=True)\n",
    "plt.xlabel(\"x\")\n",
    "plt.ylabel(\"f(x)\")\n",
    "plt.title(\"Actual distribution\")\n",
    "plt.show()"
   ]
  },
  {
   "attachments": {},
   "cell_type": "markdown",
   "metadata": {},
   "source": [
    "# Dynamic-update EM\n",
    "\n",
    "The traditional EM algorithm needs all the datapoint before making any changes to the weights, means and variances. From the idea of reinforcement learning, what if we update every time we see a datapoint (or a batch of datapoints)? In RL, dynamic programming value update will speed up the covergence rate significantly, and is proven to be an unbiased estimator of the actual value function. "
   ]
  },
  {
   "attachments": {},
   "cell_type": "markdown",
   "metadata": {},
   "source": [
    "# 2a. Constant stepsize \n",
    "Currently, it is not converging. I have not figured out why."
   ]
  },
  {
   "cell_type": "code",
   "execution_count": 20,
   "metadata": {},
   "outputs": [
    {
     "name": "stdout",
     "output_type": "stream",
     "text": [
      "kl div: 7133.423675537747\n",
      "kl div: 19014.269964932835  |  iter: 0  |  difference vs the prev iter: inf\n",
      "kl div: 5365.6432006168225  |  iter: 15  |  difference vs the prev iter: 334.10354517076576\n",
      "kl div: 2468.742007157912  |  iter: 30  |  difference vs the prev iter: 124.67371247518577\n",
      "kl div: 1183.9277537161295  |  iter: 45  |  difference vs the prev iter: 63.644975710747985\n",
      "kl div: 524.9927187302486  |  iter: 60  |  difference vs the prev iter: 33.133490988560425\n",
      "kl div: 176.5709547203627  |  iter: 75  |  difference vs the prev iter: 16.95742467008614\n",
      "kl div: 25.708324846439254  |  iter: 90  |  difference vs the prev iter: 5.945340403249794\n",
      "kl div: 3.38153040706313  |  iter: 105  |  difference vs the prev iter: 0.030334593352160155\n",
      "kl div: 3.011065622347325  |  iter: 120  |  difference vs the prev iter: 0.020887958939204587\n",
      "kl div: 2.763656771568895  |  iter: 135  |  difference vs the prev iter: 0.014137593021811057\n",
      "kl div: 2.5961763756765412  |  iter: 150  |  difference vs the prev iter: 0.00958591008598697\n",
      "kl div: 2.4640377588504534  |  iter: 165  |  difference vs the prev iter: 0.009023739222113303\n",
      "kl div: 2.3375281736868287  |  iter: 180  |  difference vs the prev iter: 0.008318841085828144\n",
      "kl div: 2.203669216581221  |  iter: 195  |  difference vs the prev iter: 0.009157045840454625\n",
      "kl div: 2.0624991700384547  |  iter: 210  |  difference vs the prev iter: 0.008963172814282494\n",
      "kl div: 1.9170539921269953  |  iter: 225  |  difference vs the prev iter: 0.009711956975500424\n",
      "kl div: 1.7791870171677704  |  iter: 240  |  difference vs the prev iter: 0.008647309391399904\n",
      "kl div: 1.6617055448819662  |  iter: 255  |  difference vs the prev iter: 0.007657249718388215\n",
      "kl div: 1.567946507399994  |  iter: 270  |  difference vs the prev iter: 0.005724970374450633\n",
      "kl div: 1.494410956631569  |  iter: 285  |  difference vs the prev iter: 0.0042894418500336595\n",
      "kl div: 1.44088741468624  |  iter: 300  |  difference vs the prev iter: 0.0032024743299809977\n",
      "kl div: 1.403876144086616  |  iter: 315  |  difference vs the prev iter: 0.001970797122992307\n",
      "kl div: 1.3735007144916738  |  iter: 330  |  difference vs the prev iter: 0.002013333162489195\n",
      "kl div: 1.3474343778376314  |  iter: 345  |  difference vs the prev iter: 0.0008461098263004008\n",
      "kl div: 1.320842864726895  |  iter: 360  |  difference vs the prev iter: 0.001313753946609486\n",
      "kl div: 1.2973566793884992  |  iter: 375  |  difference vs the prev iter: 0.0017329018015539432\n",
      "kl div: 1.2741002554628382  |  iter: 390  |  difference vs the prev iter: 0.0012038765456421352\n",
      "kl div: 1.250418494885632  |  iter: 405  |  difference vs the prev iter: 0.0009883726804620352\n",
      "kl div: 1.2248646636855247  |  iter: 420  |  difference vs the prev iter: 0.0015697916605901252\n",
      "kl div: 1.2017469678235941  |  iter: 435  |  difference vs the prev iter: 0.0015321617020978007\n",
      "kl div: 1.1771087223856176  |  iter: 450  |  difference vs the prev iter: 0.00144878892314515\n",
      "kl div: 1.1550740825710437  |  iter: 465  |  difference vs the prev iter: 0.0012463481268809584\n",
      "kl div: 1.1374592525227705  |  iter: 480  |  difference vs the prev iter: 0.0010419368575327326\n",
      "kl div: 1.1226176145277476  |  iter: 495  |  difference vs the prev iter: 0.0007710352799850106\n",
      "kl div: 1.1136870595246107  |  iter: 510  |  difference vs the prev iter: 0.0002910705352199283\n",
      "kl div: 1.1075349768684675  |  iter: 525  |  difference vs the prev iter: 0.00020172028269138664\n",
      "kl div: 1.1045415413069324  |  iter: 540  |  difference vs the prev iter: 0.00010686687361305403\n",
      "kl div: 1.0994742988254995  |  iter: 555  |  difference vs the prev iter: -2.8801972024261602e-05\n",
      "kl div: 1.0953663395030544  |  iter: 570  |  difference vs the prev iter: -1.4089516643389643e-05\n",
      "kl div: 1.0937453579023302  |  iter: 585  |  difference vs the prev iter: -0.00031933531618788535\n",
      "kl div: 1.097052748827928  |  iter: 600  |  difference vs the prev iter: 0.00025884084995864143\n",
      "kl div: 1.0945556767540388  |  iter: 615  |  difference vs the prev iter: 8.31786990005412e-05\n",
      "kl div: 1.0927649997423088  |  iter: 630  |  difference vs the prev iter: 0.0008083467528201549\n",
      "kl div: 1.0874493731349524  |  iter: 645  |  difference vs the prev iter: 0.0013354596897414694\n",
      "kl div: 1.0818472900516276  |  iter: 660  |  difference vs the prev iter: 0.00010173812520597458\n",
      "kl div: 1.0801339570640187  |  iter: 675  |  difference vs the prev iter: 0.00027682020973274213\n",
      "kl div: 1.07867356113699  |  iter: 690  |  difference vs the prev iter: 0.0003745806239170424\n",
      "kl div: 1.0761122318554979  |  iter: 705  |  difference vs the prev iter: 0.00014230894327216248\n",
      "kl div: 1.074950388839005  |  iter: 720  |  difference vs the prev iter: 0.0003630932776939044\n",
      "kl div: 1.0743225260410647  |  iter: 735  |  difference vs the prev iter: -0.0004797382563923591\n"
     ]
    },
    {
     "ename": "KeyboardInterrupt",
     "evalue": "",
     "output_type": "error",
     "traceback": [
      "\u001b[1;31m---------------------------------------------------------------------------\u001b[0m",
      "\u001b[1;31mKeyboardInterrupt\u001b[0m                         Traceback (most recent call last)",
      "\u001b[1;32mc:\\Users\\tutha\\Desktop\\Personal Project\\DynamicallyUpdated-Expectation-Maximization-Algorithm\\DynamicallyUpdated_EM.ipynb Cell 19\u001b[0m in \u001b[0;36m<cell line: 60>\u001b[1;34m()\u001b[0m\n\u001b[0;32m     <a href='vscode-notebook-cell:/c%3A/Users/tutha/Desktop/Personal%20Project/DynamicallyUpdated-Expectation-Maximization-Algorithm/DynamicallyUpdated_EM.ipynb#X24sZmlsZQ%3D%3D?line=56'>57</a>\u001b[0m         counter \u001b[39m+\u001b[39m\u001b[39m=\u001b[39m \u001b[39m1\u001b[39m\n\u001b[0;32m     <a href='vscode-notebook-cell:/c%3A/Users/tutha/Desktop/Personal%20Project/DynamicallyUpdated-Expectation-Maximization-Algorithm/DynamicallyUpdated_EM.ipynb#X24sZmlsZQ%3D%3D?line=57'>58</a>\u001b[0m     \u001b[39mreturn\u001b[39;00m divergence_plot\n\u001b[1;32m---> <a href='vscode-notebook-cell:/c%3A/Users/tutha/Desktop/Personal%20Project/DynamicallyUpdated-Expectation-Maximization-Algorithm/DynamicallyUpdated_EM.ipynb#X24sZmlsZQ%3D%3D?line=59'>60</a>\u001b[0m divergence_plot \u001b[39m=\u001b[39m dynamicEM()\n",
      "\u001b[1;32mc:\\Users\\tutha\\Desktop\\Personal Project\\DynamicallyUpdated-Expectation-Maximization-Algorithm\\DynamicallyUpdated_EM.ipynb Cell 19\u001b[0m in \u001b[0;36mdynamicEM\u001b[1;34m()\u001b[0m\n\u001b[0;32m     <a href='vscode-notebook-cell:/c%3A/Users/tutha/Desktop/Personal%20Project/DynamicallyUpdated-Expectation-Maximization-Algorithm/DynamicallyUpdated_EM.ipynb#X24sZmlsZQ%3D%3D?line=17'>18</a>\u001b[0m \u001b[39m\"\"\"for i in range(n):\u001b[39;00m\n\u001b[0;32m     <a href='vscode-notebook-cell:/c%3A/Users/tutha/Desktop/Personal%20Project/DynamicallyUpdated-Expectation-Maximization-Algorithm/DynamicallyUpdated_EM.ipynb#X24sZmlsZQ%3D%3D?line=18'>19</a>\u001b[0m \u001b[39m    denominator_sum = 0\u001b[39;00m\n\u001b[0;32m     <a href='vscode-notebook-cell:/c%3A/Users/tutha/Desktop/Personal%20Project/DynamicallyUpdated-Expectation-Maximization-Algorithm/DynamicallyUpdated_EM.ipynb#X24sZmlsZQ%3D%3D?line=19'>20</a>\u001b[0m \u001b[39m    for j in range(k):\u001b[39;00m\n\u001b[1;32m   (...)\u001b[0m\n\u001b[0;32m     <a href='vscode-notebook-cell:/c%3A/Users/tutha/Desktop/Personal%20Project/DynamicallyUpdated-Expectation-Maximization-Algorithm/DynamicallyUpdated_EM.ipynb#X24sZmlsZQ%3D%3D?line=23'>24</a>\u001b[0m \u001b[39m    \u001b[39;00m\n\u001b[0;32m     <a href='vscode-notebook-cell:/c%3A/Users/tutha/Desktop/Personal%20Project/DynamicallyUpdated-Expectation-Maximization-Algorithm/DynamicallyUpdated_EM.ipynb#X24sZmlsZQ%3D%3D?line=24'>25</a>\u001b[0m \u001b[39m    probability_matrix[i, :] = probability_matrix[i, :] / denominator_sum\"\"\"\u001b[39;00m\n\u001b[0;32m     <a href='vscode-notebook-cell:/c%3A/Users/tutha/Desktop/Personal%20Project/DynamicallyUpdated-Expectation-Maximization-Algorithm/DynamicallyUpdated_EM.ipynb#X24sZmlsZQ%3D%3D?line=26'>27</a>\u001b[0m index \u001b[39m=\u001b[39m counter \u001b[39m%\u001b[39m \u001b[39m1000\u001b[39m\n\u001b[1;32m---> <a href='vscode-notebook-cell:/c%3A/Users/tutha/Desktop/Personal%20Project/DynamicallyUpdated-Expectation-Maximization-Algorithm/DynamicallyUpdated_EM.ipynb#X24sZmlsZQ%3D%3D?line=27'>28</a>\u001b[0m probability_matrix \u001b[39m=\u001b[39m calculate_p_matrix(data[index:(index \u001b[39m+\u001b[39;49m \u001b[39m1\u001b[39;49m) \u001b[39m*\u001b[39;49m \u001b[39m1000\u001b[39;49m], predicted_mean_dynamic, predicted_variance_dynamic, predicted_weights_dynamic)\n\u001b[0;32m     <a href='vscode-notebook-cell:/c%3A/Users/tutha/Desktop/Personal%20Project/DynamicallyUpdated-Expectation-Maximization-Algorithm/DynamicallyUpdated_EM.ipynb#X24sZmlsZQ%3D%3D?line=28'>29</a>\u001b[0m \u001b[39m# Normalise\u001b[39;00m\n\u001b[0;32m     <a href='vscode-notebook-cell:/c%3A/Users/tutha/Desktop/Personal%20Project/DynamicallyUpdated-Expectation-Maximization-Algorithm/DynamicallyUpdated_EM.ipynb#X24sZmlsZQ%3D%3D?line=29'>30</a>\u001b[0m probability_matrix \u001b[39m=\u001b[39m probability_matrix \u001b[39m/\u001b[39m np\u001b[39m.\u001b[39msum(probability_matrix, axis \u001b[39m=\u001b[39m \u001b[39m1\u001b[39m, keepdims\u001b[39m=\u001b[39m\u001b[39mTrue\u001b[39;00m)\n",
      "\u001b[1;32mc:\\Users\\tutha\\Desktop\\Personal Project\\DynamicallyUpdated-Expectation-Maximization-Algorithm\\DynamicallyUpdated_EM.ipynb Cell 19\u001b[0m in \u001b[0;36mcalculate_p_matrix\u001b[1;34m(x, input_mean, input_var, input_weight)\u001b[0m\n\u001b[0;32m      <a href='vscode-notebook-cell:/c%3A/Users/tutha/Desktop/Personal%20Project/DynamicallyUpdated-Expectation-Maximization-Algorithm/DynamicallyUpdated_EM.ipynb#X24sZmlsZQ%3D%3D?line=6'>7</a>\u001b[0m weight_matrix \u001b[39m=\u001b[39m np\u001b[39m.\u001b[39mtile(input_weight, (\u001b[39mlen\u001b[39m(x), \u001b[39m1\u001b[39m))\u001b[39m.\u001b[39mT\n\u001b[0;32m      <a href='vscode-notebook-cell:/c%3A/Users/tutha/Desktop/Personal%20Project/DynamicallyUpdated-Expectation-Maximization-Algorithm/DynamicallyUpdated_EM.ipynb#X24sZmlsZQ%3D%3D?line=8'>9</a>\u001b[0m \u001b[39m# PDF calculation\u001b[39;00m\n\u001b[1;32m---> <a href='vscode-notebook-cell:/c%3A/Users/tutha/Desktop/Personal%20Project/DynamicallyUpdated-Expectation-Maximization-Algorithm/DynamicallyUpdated_EM.ipynb#X24sZmlsZQ%3D%3D?line=9'>10</a>\u001b[0m p_matrix \u001b[39m=\u001b[39m weight_matrix \u001b[39m*\u001b[39m np\u001b[39m.\u001b[39mexp(\u001b[39m-\u001b[39m\u001b[39m0.5\u001b[39m \u001b[39m*\u001b[39m np\u001b[39m.\u001b[39;49mpower(x \u001b[39m-\u001b[39;49m mean_matrix, \u001b[39m2\u001b[39;49m) \u001b[39m/\u001b[39m variance_matrix) \u001b[39m/\u001b[39m (np\u001b[39m.\u001b[39msqrt(\u001b[39m2\u001b[39m \u001b[39m*\u001b[39m np\u001b[39m.\u001b[39mpi \u001b[39m*\u001b[39m variance_matrix))\n\u001b[0;32m     <a href='vscode-notebook-cell:/c%3A/Users/tutha/Desktop/Personal%20Project/DynamicallyUpdated-Expectation-Maximization-Algorithm/DynamicallyUpdated_EM.ipynb#X24sZmlsZQ%3D%3D?line=11'>12</a>\u001b[0m p_matrix \u001b[39m=\u001b[39m p_matrix\u001b[39m.\u001b[39mtranspose(\u001b[39m1\u001b[39m, \u001b[39m0\u001b[39m)\n\u001b[0;32m     <a href='vscode-notebook-cell:/c%3A/Users/tutha/Desktop/Personal%20Project/DynamicallyUpdated-Expectation-Maximization-Algorithm/DynamicallyUpdated_EM.ipynb#X24sZmlsZQ%3D%3D?line=13'>14</a>\u001b[0m \u001b[39mreturn\u001b[39;00m p_matrix\n",
      "\u001b[1;31mKeyboardInterrupt\u001b[0m: "
     ]
    }
   ],
   "source": [
    "predicted_mean_dynamic = np.random.uniform(low=-5, high=5, size=(k, ))\n",
    "predicted_variance_dynamic = np.random.uniform(low=0.5, high=5, size=(k, ))\n",
    "predicted_weights_dynamic = np.random.random(size=(k, ))\n",
    "predicted_weights_dynamic = predicted_weights_dynamic / np.sum(predicted_weights_dynamic) \n",
    "def dynamicEM():\n",
    "    global predicted_mean_dynamic, predicted_variance_dynamic, predicted_weights_dynamic\n",
    "    divergence_plot = [] # Array for plotting later\n",
    "    counter = 0 # Count iteration for printing divergence\n",
    "    \n",
    "    KL_divergence = KL_div(predicted_mean_dynamic, predicted_variance_dynamic, predicted_weights_dynamic)\n",
    "    print(\"kl div:\", KL_divergence)\n",
    "    prev_divergence = math.inf\n",
    "    \n",
    "    \n",
    "    while True:#prev_divergence - KL_divergence > 0.0001 and KL_divergence > 0:\n",
    "        \n",
    "        # This is the old implementation using python loops. I need to redo this part in numpy to optimise bc it takes too much time.\n",
    "        \"\"\"for i in range(n):\n",
    "            denominator_sum = 0\n",
    "            for j in range(k):\n",
    "                probability_matrix[i, j] = predicted_weights[j] * pdf(data[i], predicted_mean[j], predicted_variance[j])\n",
    "            \n",
    "            denominator_sum = np.sum(probability_matrix[i, :])\n",
    "            \n",
    "            probability_matrix[i, :] = probability_matrix[i, :] / denominator_sum\"\"\"\n",
    "        \n",
    "        index = counter % 1000\n",
    "        probability_matrix = calculate_p_matrix(data[index:(index + 1) * 1000], predicted_mean_dynamic, predicted_variance_dynamic, predicted_weights_dynamic)\n",
    "        # Normalise\n",
    "        probability_matrix = probability_matrix / np.sum(probability_matrix, axis = 1, keepdims=True)\n",
    "        \n",
    "        \"\"\"for j in range(k):\n",
    "            normalised_p_matrix[:, j] = probability_matrix[:, j] / np.sum(probability_matrix[:, j])\n",
    "            scaling_factor_plot[j].append(np.sum(probability_matrix[:, j]))\"\"\"\n",
    "            \n",
    "        normalised_p_matrix = probability_matrix / np.sum(probability_matrix, axis = 0, keepdims=True)\n",
    "        \n",
    "        \n",
    "        # Maximisation step\n",
    "        predicted_weights_dynamic = (1/n) * np.sum(probability_matrix, axis = 0)\n",
    "        \n",
    "        mean_matrix = (data[index:(index + 1) * 1000] * normalised_p_matrix.T).T\n",
    "        predicted_mean_dynamic = np.sum(mean_matrix, axis = 0)\n",
    "\n",
    "        predicted_variance_dynamic = np.sum(np.multiply(np.power(np.tile(data[index:(index + 1) * 1000], (k, 1)).T - predicted_mean_dynamic, 2), normalised_p_matrix), axis = 0)\n",
    "        \n",
    "        \n",
    "        diff = prev_divergence - KL_divergence\n",
    "        prev_divergence = KL_divergence\n",
    "        KL_divergence = KL_div(predicted_mean_dynamic, predicted_variance_dynamic, predicted_weights_dynamic)\n",
    "        \n",
    "        if counter % 15 == 0:\n",
    "            print(\"kl div:\", KL_divergence, \" |  iter:\", counter, \" |  difference vs the prev iter:\", diff)\n",
    "            \n",
    "            \n",
    "        divergence_plot.append(KL_divergence)\n",
    "        counter += 1\n",
    "    return divergence_plot\n",
    "\n",
    "divergence_plot = dynamicEM()"
   ]
  }
 ],
 "metadata": {
  "kernelspec": {
   "display_name": "Python 3",
   "language": "python",
   "name": "python3"
  },
  "language_info": {
   "codemirror_mode": {
    "name": "ipython",
    "version": 3
   },
   "file_extension": ".py",
   "mimetype": "text/x-python",
   "name": "python",
   "nbconvert_exporter": "python",
   "pygments_lexer": "ipython3",
   "version": "3.10.9 (tags/v3.10.9:1dd9be6, Dec  6 2022, 20:01:21) [MSC v.1934 64 bit (AMD64)]"
  },
  "orig_nbformat": 4,
  "vscode": {
   "interpreter": {
    "hash": "7e145918ee62325bb783ae69933f229276b5458d89ab4d949d12da7376064d41"
   }
  }
 },
 "nbformat": 4,
 "nbformat_minor": 2
}
