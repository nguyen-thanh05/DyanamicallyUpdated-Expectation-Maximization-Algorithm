{
 "cells": [
  {
   "cell_type": "code",
   "execution_count": 1,
   "metadata": {},
   "outputs": [],
   "source": [
    "import numpy as np\n",
    "import matplotlib.pyplot as plt\n",
    "import math\n"
   ]
  },
  {
   "attachments": {},
   "cell_type": "markdown",
   "metadata": {},
   "source": [
    "# Step 1: Generate the data \n",
    "I'm aiming to generate 100000 datapoints from a Gaussian mixture model of k = 15 components. For simplicity, each datapoint is a scalar (1-dimension). \n",
    "To make it more realistic, I will random the weight of each component."
   ]
  },
  {
   "cell_type": "code",
   "execution_count": 5,
   "metadata": {},
   "outputs": [],
   "source": [
    "n = 100000 # Number of datapoints\n",
    "k = 15 # Number of components\n",
    "\n",
    "# Randomising the weights\n",
    "weights = np.random.uniform(low = 0.75, high = 1, size=(k, ))\n",
    "weights = weights / np.sum(weights) \n",
    "assert abs(np.sum(weights) - 1) < 0.0000001 # Ensuring a convex linear combination\n",
    "\n",
    "# Decide which component we will sample from\n",
    "mixture_index = np.random.choice(k, size = n, replace = True, p = weights)\n",
    "assert mixture_index.shape == (n, )\n",
    "\n",
    "# Decide the random mean and variance of all 100 components\n",
    "mean = np.random.uniform(low=-12.5, high=12.5, size=(k, ))\n",
    "variance = np.random.uniform(low=0.75, high=1.5, size=(k, ))\n"
   ]
  },
  {
   "cell_type": "code",
   "execution_count": 6,
   "metadata": {},
   "outputs": [],
   "source": [
    "# Generate data using numpy for efficiency\n",
    "data = np.fromiter((np.random.normal(loc = mean[index], scale = np.sqrt([variance[index]])[0]) for index in mixture_index), float)\n",
    "assert data.shape == (n, )"
   ]
  },
  {
   "cell_type": "code",
   "execution_count": 7,
   "metadata": {},
   "outputs": [
    {
     "data": {
      "image/png": "[encoded data removed]",
      "text/plain": [
       "<Figure size 432x288 with 1 Axes>"
      ]
     },
     "metadata": {
      "needs_background": "light"
     },
     "output_type": "display_data"
    }
   ],
   "source": [
    "plt.hist(data, bins=\"auto\", density=True)\n",
    "plt.xlabel(\"x\")\n",
    "plt.ylabel(\"f(x)\")\n",
    "plt.show()"
   ]
  },
  {
   "attachments": {},
   "cell_type": "markdown",
   "metadata": {},
   "source": [
    "# Step 2: The traditional EM algorithm\n",
    "The algorithm includes finding the probability of each point belonging to each component, then tune the mean and variance of each component according the the calculated probabilities. "
   ]
  },
  {
   "cell_type": "code",
   "execution_count": 8,
   "metadata": {},
   "outputs": [],
   "source": [
    "\n",
    "# First, define a way to calculate pdf \n",
    "# This function is actually not used due to its low efficiency. See function calculate_p_matrix below\n",
    "def pdf(x, input_mean, input_var):\n",
    "    return math.exp(-0.5 * ((x - input_mean) ** 2 ) / input_var) / (math.sqrt(2 * math.pi * input_var))\n",
    "\n",
    "# Test the function\n",
    "assert pdf(0, 0, 1) == 0.3989422804014327\n",
    "assert pdf(0.5, 0, 1) == 0.3520653267642995\n"
   ]
  },
  {
   "cell_type": "code",
   "execution_count": 9,
   "metadata": {},
   "outputs": [],
   "source": [
    "# Using numpy to calculate pdf\n",
    "# Note that this p matrix is not yet normalised\n",
    "def calculate_p_matrix(x, input_mean, input_var, input_weight):\n",
    "    # Duplicate data so dimensions work out\n",
    "    mean_matrix = np.tile(input_mean, (len(x), 1)).T\n",
    "    variance_matrix = np.tile(input_var, (len(x), 1)).T\n",
    "    weight_matrix = np.tile(input_weight, (len(x), 1)).T\n",
    "    \n",
    "    # PDF calculation\n",
    "    p_matrix = weight_matrix * np.exp(-0.5 * np.power(x - mean_matrix, 2) / variance_matrix) / (np.sqrt(2 * np.pi * variance_matrix))\n",
    "    \n",
    "    p_matrix = p_matrix.transpose(1, 0)\n",
    "    \n",
    "    return p_matrix\n"
   ]
  },
  {
   "cell_type": "code",
   "execution_count": 10,
   "metadata": {},
   "outputs": [
    {
     "name": "stdout",
     "output_type": "stream",
     "text": [
      "new [0.05368566 0.03948393 0.06149196 ... 0.05263488 0.01643724 0.05219745]\n",
      "old [0.05368566 0.03948393 0.06149196 ... 0.05263488 0.01643724 0.05219745]\n"
     ]
    }
   ],
   "source": [
    "# Define a metric to evaluate our return from EM alg.\n",
    "# Hardcoded P_value to save time\n",
    "\n",
    "# Old implementation\n",
    "old_P_value = np.zeros((n,))\n",
    "for i in range(n):\n",
    "    for j in range(k):\n",
    "        old_P_value[i] += weights[j] * pdf(data[i], mean[j], variance[j])\n",
    "\n",
    "\n",
    "# New implementation with numpy, more efficient\n",
    "P_value = np.sum(calculate_p_matrix(data, mean, variance, weights), axis = 1)\n",
    "   \n",
    "print(\"new\", P_value)\n",
    "print(\"old\", old_P_value)"
   ]
  },
  {
   "cell_type": "code",
   "execution_count": 11,
   "metadata": {},
   "outputs": [],
   "source": [
    "\n",
    "# KL divergence is an integral from -inf to +inf, in this case, I only use the n datapoints that we already generated.\n",
    "# The addition of - P + Q was inspired by scipy's implementation of KL divergence. Apparently, it prevents KL divergence from going negative\n",
    "def KL_div(pred_mean, pred_variance, pred_weights):\n",
    "    # Old implementation\n",
    "    \"\"\"KL_divergence = 0\n",
    "    for i in range(n):\n",
    "        Q_value = 0\n",
    "        for j in range(k):\n",
    "            Q_value += pred_weights[j] * pdf(data[i], pred_mean[j], pred_variance[j])\n",
    "            #P_value += weights[j] * pdf(data[i], mean[j], variance[j])\n",
    "        KL_divergence += P_value[i] * math.log(P_value[i]/Q_value, math.e) - P_value[i] + Q_value\"\"\"\n",
    "    \n",
    "    \n",
    "    # New implementation\n",
    "    Q_value = np.sum(calculate_p_matrix(data, pred_mean, pred_variance, pred_weights), axis = 1)\n",
    "    \n",
    "    KL_divergence = np.sum(P_value * np.log(P_value / Q_value) - P_value + Q_value)\n",
    "    \n",
    "    return KL_divergence\n",
    "    \n",
    "assert KL_div(mean, variance, weights) == 0\n",
    "\n"
   ]
  },
  {
   "cell_type": "code",
   "execution_count": 48,
   "metadata": {},
   "outputs": [],
   "source": [
    "# This implementation is based on Dr. Martha White's notes for CMPUT367, page 107. \n",
    "\n",
    "\"\"\"scaling_factor_plot = [[] for j in range(k)]\n",
    "print(scaling_factor_plot)\n",
    "\"\"\"\n",
    "\n",
    "\n",
    "# Starts with random means, variances and weights\n",
    "predicted_mean_traditional = np.random.uniform(low=-5, high=5, size=(k, ))\n",
    "predicted_variance_traditional = np.random.uniform(low=0.5, high=5, size=(k, ))\n",
    "predicted_weights_traditional = np.random.random(size=(k, ))\n",
    "predicted_weights_traditional = predicted_weights_traditional / np.sum(predicted_weights_traditional) #normalising\n",
    "\n",
    "def traditional_EM():\n",
    "\n",
    "    \n",
    "    global predicted_mean_traditional, predicted_variance_traditional, predicted_weights_traditional\n",
    "    divergence_plot = [] # Array for plotting later\n",
    "    counter = 0 # Count iteration for printing divergence\n",
    "    \n",
    "    KL_divergence = KL_div(predicted_mean_traditional, predicted_variance_traditional, predicted_weights_traditional)\n",
    "    print(\"kl div:\", KL_divergence)\n",
    "    prev_divergence = math.inf\n",
    "    \n",
    "    \n",
    "    \n",
    "    while prev_divergence - KL_divergence > 0.0001 and KL_divergence > 0:\n",
    "        \n",
    "        # This is the old implementation using python loops. I need to redo this part in numpy to optimise bc it takes too much time.\n",
    "        \"\"\"for i in range(n):\n",
    "            denominator_sum = 0\n",
    "            for j in range(k):\n",
    "                probability_matrix[i, j] = predicted_weights[j] * pdf(data[i], predicted_mean[j], predicted_variance[j])\n",
    "            \n",
    "            denominator_sum = np.sum(probability_matrix[i, :])\n",
    "            \n",
    "            probability_matrix[i, :] = probability_matrix[i, :] / denominator_sum\"\"\"\n",
    "        \n",
    "        probability_matrix = calculate_p_matrix(data, predicted_mean_traditional, predicted_variance_traditional, predicted_weights_traditional)\n",
    "        # Normalise\n",
    "        probability_matrix = probability_matrix / np.sum(probability_matrix, axis = 1, keepdims=True)\n",
    "        \n",
    "        \"\"\"for j in range(k):\n",
    "            normalised_p_matrix[:, j] = probability_matrix[:, j] / np.sum(probability_matrix[:, j])\n",
    "            scaling_factor_plot[j].append(np.sum(probability_matrix[:, j]))\"\"\"\n",
    "            \n",
    "        normalised_p_matrix = probability_matrix / np.sum(probability_matrix, axis = 0, keepdims=True)\n",
    "        \n",
    "        \n",
    "        # Maximisation step\n",
    "        predicted_weights_traditional = (1/n) * np.sum(probability_matrix, axis = 0)\n",
    "        \n",
    "        mean_matrix = (data * normalised_p_matrix.T).T\n",
    "        predicted_mean_traditional = np.sum(mean_matrix, axis = 0)\n",
    "\n",
    "        predicted_variance_traditional = np.sum(np.multiply(np.power(np.tile(data, (k, 1)).T - predicted_mean_traditional, 2), normalised_p_matrix), axis = 0)\n",
    "        \n",
    "        KL_divergence = KL_div(predicted_mean_traditional, predicted_variance_traditional, predicted_weights_traditional)\n",
    "        diff = prev_divergence - KL_divergence\n",
    "        prev_divergence = KL_divergence\n",
    "        \n",
    "        \n",
    "        if counter % 15 == 0:\n",
    "            print(\"kl div:\", KL_divergence, \" |  iter:\", counter, \" |  difference vs the prev iter:\", diff)\n",
    "            \n",
    "            \n",
    "        divergence_plot.append(KL_divergence)\n",
    "        counter += 1\n",
    "    return divergence_plot\n",
    "\n"
   ]
  },
  {
   "cell_type": "code",
   "execution_count": 37,
   "metadata": {},
   "outputs": [
    {
     "name": "stdout",
     "output_type": "stream",
     "text": [
      "kl div: 4992.943978596957\n",
      "kl div: 369.5442410567829  |  iter: 0  |  difference vs the prev iter: inf\n",
      "kl div: 17.762757890513186  |  iter: 15  |  difference vs the prev iter: 1.2469995211912739\n",
      "kl div: 14.359193039645737  |  iter: 30  |  difference vs the prev iter: 0.07493523091533838\n",
      "kl div: 13.18962460086902  |  iter: 45  |  difference vs the prev iter: 0.08061330245108067\n",
      "kl div: 12.06139458553501  |  iter: 60  |  difference vs the prev iter: 0.07541740590335166\n",
      "kl div: 9.96124241553871  |  iter: 75  |  difference vs the prev iter: 0.22126104166559735\n",
      "kl div: 5.6015033314351985  |  iter: 90  |  difference vs the prev iter: 0.21387362948400934\n",
      "kl div: 4.165918142203799  |  iter: 105  |  difference vs the prev iter: 0.054144417019707625\n",
      "kl div: 3.638549051716853  |  iter: 120  |  difference vs the prev iter: 0.027473923093431107\n",
      "kl div: 3.3149016121443906  |  iter: 135  |  difference vs the prev iter: 0.018413914143888377\n",
      "kl div: 3.0821381266669206  |  iter: 150  |  difference vs the prev iter: 0.014260312600415492\n",
      "kl div: 2.859527625499568  |  iter: 165  |  difference vs the prev iter: 0.01606122875415572\n",
      "kl div: 2.5596365078131247  |  iter: 180  |  difference vs the prev iter: 0.023052963472258714\n",
      "kl div: 2.1483402025217315  |  iter: 195  |  difference vs the prev iter: 0.029763224039357716\n",
      "kl div: 1.6993931428677487  |  iter: 210  |  difference vs the prev iter: 0.028736831258259654\n",
      "kl div: 1.3421085027922655  |  iter: 225  |  difference vs the prev iter: 0.01999428109391377\n",
      "kl div: 1.125926387632485  |  iter: 240  |  difference vs the prev iter: 0.011080610998397411\n",
      "kl div: 1.0117343307893532  |  iter: 255  |  difference vs the prev iter: 0.00577039810517288\n",
      "kl div: 0.9500932595695719  |  iter: 270  |  difference vs the prev iter: 0.0032660565269890807\n",
      "kl div: 0.9119987676157738  |  iter: 285  |  difference vs the prev iter: 0.0021735679020459253\n",
      "kl div: 0.8841995258054957  |  iter: 300  |  difference vs the prev iter: 0.0016881297190389777\n",
      "kl div: 0.8612287718963025  |  iter: 315  |  difference vs the prev iter: 0.0014456439718515401\n",
      "kl div: 0.8409561406450468  |  iter: 330  |  difference vs the prev iter: 0.0012957101951949213\n",
      "kl div: 0.8225868878723831  |  iter: 345  |  difference vs the prev iter: 0.0011797559571099514\n",
      "kl div: 0.8058287988977209  |  iter: 360  |  difference vs the prev iter: 0.001076532552069076\n",
      "kl div: 0.7905618337839108  |  iter: 375  |  difference vs the prev iter: 0.0009792512944889475\n",
      "kl div: 0.7767140617626959  |  iter: 390  |  difference vs the prev iter: 0.000886375042209453\n",
      "kl div: 0.7642189580945331  |  iter: 405  |  difference vs the prev iter: 0.0007980586030822412\n",
      "kl div: 0.7530033248936678  |  iter: 420  |  difference vs the prev iter: 0.000714846238494049\n",
      "kl div: 0.7429859447196665  |  iter: 435  |  difference vs the prev iter: 0.0006372378017657221\n",
      "kl div: 0.7340794986637836  |  iter: 450  |  difference vs the prev iter: 0.0005655726344299117\n",
      "kl div: 0.7261931208701886  |  iter: 465  |  difference vs the prev iter: 0.0005000203803824377\n",
      "kl div: 0.7192347680400853  |  iter: 480  |  difference vs the prev iter: 0.0004406021640506186\n",
      "kl div: 0.7131132120473992  |  iter: 495  |  difference vs the prev iter: 0.0003872166697875823\n",
      "kl div: 0.7077396564157904  |  iter: 510  |  difference vs the prev iter: 0.00033966419984132745\n",
      "kl div: 0.7030290192556609  |  iter: 525  |  difference vs the prev iter: 0.00029766773182549056\n",
      "kl div: 0.6989009234223027  |  iter: 540  |  difference vs the prev iter: 0.0002608915000532619\n",
      "kl div: 0.6952804252329082  |  iter: 555  |  difference vs the prev iter: 0.00022895771214370697\n",
      "kl div: 0.692098506787003  |  iter: 570  |  difference vs the prev iter: 0.00020146168833723443\n",
      "kl div: 0.6892923550012452  |  iter: 585  |  difference vs the prev iter: 0.00017798546486702538\n",
      "kl div: 0.6868054514129663  |  iter: 600  |  difference vs the prev iter: 0.00015810973843222165\n",
      "kl div: 0.684587498898083  |  iter: 615  |  difference vs the prev iter: 0.0001414239836082798\n",
      "kl div: 0.682594213419749  |  iter: 630  |  difference vs the prev iter: 0.00012753471420057227\n",
      "kl div: 0.6807870097156863  |  iter: 645  |  difference vs the prev iter: 0.00011607175565031547\n",
      "kl div: 0.6791326094949731  |  iter: 660  |  difference vs the prev iter: 0.00010669269231589062\n"
     ]
    }
   ],
   "source": [
    "# Will take abt 5 to 10 minutes to run and converge\n",
    "divergence_plot = traditional_EM()"
   ]
  },
  {
   "cell_type": "code",
   "execution_count": 38,
   "metadata": {},
   "outputs": [
    {
     "name": "stdout",
     "output_type": "stream",
     "text": [
      "----- TARGET DISTRIBUTION ------\n",
      "component mean: 0.23484192983389285 | variance: 0.806138334815591 | weight: 0.05842010928112557\n",
      "component mean: 4.520703903089217 | variance: 0.8288370150881301 | weight: 0.07359743358779006\n",
      "component mean: 1.3534705511446887 | variance: 0.9214828278260032 | weight: 0.07295366312387491\n",
      "component mean: 8.794798011982436 | variance: 1.1315495190353708 | weight: 0.07421590177622711\n",
      "component mean: 1.5276732591094184 | variance: 1.250020468371319 | weight: 0.06395399627190505\n",
      "component mean: 9.895898640289744 | variance: 0.9189143726678921 | weight: 0.06785353366275293\n",
      "component mean: -10.861123704876732 | variance: 1.3393581064881848 | weight: 0.062241815868367065\n",
      "component mean: -4.6841406665581395 | variance: 1.069109921014914 | weight: 0.06728586500252656\n",
      "component mean: 1.057929612921738 | variance: 1.3613678304628372 | weight: 0.06409725842039302\n",
      "component mean: -2.5882365489502703 | variance: 1.0017266604961792 | weight: 0.06472799763588905\n",
      "component mean: 2.407830006738445 | variance: 1.0730699256271308 | weight: 0.0677938812426735\n",
      "component mean: -7.354239404922364 | variance: 0.9025853000670423 | weight: 0.064590750499809\n",
      "component mean: -1.8450676629570726 | variance: 1.3079454393490975 | weight: 0.0698852544336023\n",
      "component mean: 9.998141934793878 | variance: 1.0875194760132805 | weight: 0.06181414956713241\n",
      "component mean: -2.6043613839987216 | variance: 0.9170228000622435 | weight: 0.06656838962593142\n",
      "----- LEARNED DISTRIBUTION ------\n",
      "component mean: -3.8421840933597777 | variance: 3.134287876096415 | weight: 0.048886125854786945\n",
      "component mean: -7.499100150704183 | variance: 0.6536141906991604 | weight: 0.04034782602635127\n",
      "component mean: -4.734054622631012 | variance: 4.6988870579774655 | weight: 0.06868030888435914\n",
      "component mean: 1.294007103621519 | variance: 2.789969330539319 | weight: 0.08772319888543881\n",
      "component mean: -2.3938990237777795 | variance: 0.7382182665418547 | weight: 0.09388929275803387\n",
      "component mean: 4.602480269202845 | variance: 0.4948113129057845 | weight: 0.0363392623364418\n",
      "component mean: -3.152594019828123 | variance: 1.8365393440554785 | weight: 0.035584694978108046\n",
      "component mean: -3.324525705114273 | variance: 4.834162838849348 | weight: 0.0004950198215139745\n",
      "component mean: 0.31428651213253433 | variance: 7.557262830391863 | weight: 0.06001964569442596\n",
      "component mean: -10.86083478047331 | variance: 1.3507850205060745 | weight: 0.06410725837550006\n",
      "component mean: -3.7526559147514615 | variance: 1.5417141215631853 | weight: 0.007461070380070807\n",
      "component mean: 1.2700706469040028 | variance: 1.4538488898894926 | weight: 0.1742361776783268\n",
      "component mean: 1.4102866963051932 | variance: 2.16454991568556 | weight: 0.044822683320850695\n",
      "component mean: 4.109942047280247 | variance: 3.169336873852819 | weight: 0.03504156025821359\n",
      "component mean: 9.557913803306262 | variance: 1.3111104952108186 | weight: 0.20236587474755685\n"
     ]
    }
   ],
   "source": [
    "print(\"----- TARGET DISTRIBUTION ------\")\n",
    "for i in range(k):\n",
    "    print(\"component mean:\", mean[i], \"| variance:\", variance[i], \"| weight:\", weights[i])\n",
    "\n",
    "print(\"----- LEARNED DISTRIBUTION ------\")\n",
    "for i in range(k):\n",
    "    print(\"component mean:\", predicted_mean_traditional[i], \"| variance:\", predicted_variance_traditional[i], \"| weight:\", predicted_weights_traditional[i])"
   ]
  },
  {
   "cell_type": "code",
   "execution_count": 39,
   "metadata": {},
   "outputs": [
    {
     "data": {
      "image/png": "[encoded data removed]",
      "text/plain": [
       "<Figure size 432x288 with 1 Axes>"
      ]
     },
     "metadata": {
      "needs_background": "light"
     },
     "output_type": "display_data"
    }
   ],
   "source": [
    "plt.plot([i for i in range(len(divergence_plot[15:]))], divergence_plot[15:])\n",
    "plt.xlabel(\"iteration\")\n",
    "plt.ylabel(\"kl_divergence\")\n",
    "plt.show()\n"
   ]
  },
  {
   "cell_type": "code",
   "execution_count": 40,
   "metadata": {},
   "outputs": [
    {
     "data": {
      "image/png": "[encoded data removed]",
      "text/plain": [
       "<Figure size 432x288 with 1 Axes>"
      ]
     },
     "metadata": {
      "needs_background": "light"
     },
     "output_type": "display_data"
    }
   ],
   "source": [
    "learned_mixture_index = np.random.choice(k, size = n, replace = True, p = predicted_weights_traditional)\n",
    "learned_data = np.fromiter((np.random.normal(loc = predicted_mean_traditional[index], scale = np.sqrt([predicted_variance_traditional[index]])[0]) for index in learned_mixture_index), float)\n",
    "assert data.shape == (n, )\n",
    "\n",
    "plt.hist(learned_data, bins=\"auto\", density=True)\n",
    "plt.xlabel(\"x\")\n",
    "plt.ylabel(\"f(x)\")\n",
    "plt.title(\"Learned distribution\")\n",
    "plt.show()"
   ]
  },
  {
   "cell_type": "code",
   "execution_count": 41,
   "metadata": {},
   "outputs": [
    {
     "data": {
      "image/png": "[encoded data removed]",
      "text/plain": [
       "<Figure size 432x288 with 1 Axes>"
      ]
     },
     "metadata": {
      "needs_background": "light"
     },
     "output_type": "display_data"
    }
   ],
   "source": [
    "plt.hist(data, bins=\"auto\", density=True)\n",
    "plt.xlabel(\"x\")\n",
    "plt.ylabel(\"f(x)\")\n",
    "plt.title(\"Actual distribution\")\n",
    "plt.show()"
   ]
  },
  {
   "attachments": {},
   "cell_type": "markdown",
   "metadata": {},
   "source": [
    "# Dynamic-update EM\n",
    "\n",
    "The traditional EM algorithm needs all the datapoint before making any changes to the weights, means and variances. From the idea of reinforcement learning, what if we update every time we see a datapoint (or a batch of datapoints)? In RL, dynamic programming value update will speed up the covergence rate significantly, and is proven to be an unbiased estimator of the actual value function. "
   ]
  },
  {
   "attachments": {},
   "cell_type": "markdown",
   "metadata": {},
   "source": [
    "# 2a. Constant stepsize \n",
    "Currently, it is not converging. I have not figured out why."
   ]
  },
  {
   "cell_type": "code",
   "execution_count": 49,
   "metadata": {},
   "outputs": [
    {
     "name": "stdout",
     "output_type": "stream",
     "text": [
      "kl div: 7002.70958225662\n",
      "kl div: 2426.3816896894637  |  iter: 0  |  difference vs the prev iter: inf\n",
      "kl div: 2906.281951508175  |  iter: 1  |  difference vs the prev iter: -479.90026181871144\n",
      "kl div: 3237.492171117249  |  iter: 2  |  difference vs the prev iter: -331.2102196090741\n",
      "kl div: 3386.8102293791867  |  iter: 3  |  difference vs the prev iter: -149.3180582619375\n"
     ]
    },
    {
     "ename": "KeyboardInterrupt",
     "evalue": "",
     "output_type": "error",
     "traceback": [
      "\u001b[1;31m---------------------------------------------------------------------------\u001b[0m",
      "\u001b[1;31mKeyboardInterrupt\u001b[0m                         Traceback (most recent call last)",
      "\u001b[1;32mc:\\Users\\tutha\\Desktop\\Personal Project\\DynamicallyUpdated-Expectation-Maximization-Algorithm\\DynamicallyUpdated_EM.ipynb Cell 19\u001b[0m in \u001b[0;36m<cell line: 44>\u001b[1;34m()\u001b[0m\n\u001b[0;32m     <a href='vscode-notebook-cell:/c%3A/Users/tutha/Desktop/Personal%20Project/DynamicallyUpdated-Expectation-Maximization-Algorithm/DynamicallyUpdated_EM.ipynb#X23sZmlsZQ%3D%3D?line=39'>40</a>\u001b[0m         counter \u001b[39m+\u001b[39m\u001b[39m=\u001b[39m \u001b[39m1\u001b[39m\n\u001b[0;32m     <a href='vscode-notebook-cell:/c%3A/Users/tutha/Desktop/Personal%20Project/DynamicallyUpdated-Expectation-Maximization-Algorithm/DynamicallyUpdated_EM.ipynb#X23sZmlsZQ%3D%3D?line=40'>41</a>\u001b[0m     \u001b[39mreturn\u001b[39;00m divergence_plot\n\u001b[1;32m---> <a href='vscode-notebook-cell:/c%3A/Users/tutha/Desktop/Personal%20Project/DynamicallyUpdated-Expectation-Maximization-Algorithm/DynamicallyUpdated_EM.ipynb#X23sZmlsZQ%3D%3D?line=43'>44</a>\u001b[0m divergence_plot \u001b[39m=\u001b[39m dynamicEM()\n",
      "\u001b[1;32mc:\\Users\\tutha\\Desktop\\Personal Project\\DynamicallyUpdated-Expectation-Maximization-Algorithm\\DynamicallyUpdated_EM.ipynb Cell 19\u001b[0m in \u001b[0;36mdynamicEM\u001b[1;34m()\u001b[0m\n\u001b[0;32m     <a href='vscode-notebook-cell:/c%3A/Users/tutha/Desktop/Personal%20Project/DynamicallyUpdated-Expectation-Maximization-Algorithm/DynamicallyUpdated_EM.ipynb#X23sZmlsZQ%3D%3D?line=15'>16</a>\u001b[0m \u001b[39mwhile\u001b[39;00m \u001b[39mTrue\u001b[39;00m:\u001b[39m#prev_divergence - KL_divergence > 0.0001 and KL_divergence > 0:\u001b[39;00m\n\u001b[0;32m     <a href='vscode-notebook-cell:/c%3A/Users/tutha/Desktop/Personal%20Project/DynamicallyUpdated-Expectation-Maximization-Algorithm/DynamicallyUpdated_EM.ipynb#X23sZmlsZQ%3D%3D?line=17'>18</a>\u001b[0m     \u001b[39mfor\u001b[39;00m i \u001b[39min\u001b[39;00m \u001b[39mrange\u001b[39m(n):\n\u001b[1;32m---> <a href='vscode-notebook-cell:/c%3A/Users/tutha/Desktop/Personal%20Project/DynamicallyUpdated-Expectation-Maximization-Algorithm/DynamicallyUpdated_EM.ipynb#X23sZmlsZQ%3D%3D?line=18'>19</a>\u001b[0m         p_matrix \u001b[39m=\u001b[39m calculate_p_matrix(np\u001b[39m.\u001b[39;49marray([data[i]]), predicted_mean_dynamic, predicted_variance_dynamic, predicted_weights_dynamic)\n\u001b[0;32m     <a href='vscode-notebook-cell:/c%3A/Users/tutha/Desktop/Personal%20Project/DynamicallyUpdated-Expectation-Maximization-Algorithm/DynamicallyUpdated_EM.ipynb#X23sZmlsZQ%3D%3D?line=19'>20</a>\u001b[0m         p_matrix \u001b[39m=\u001b[39m p_matrix \u001b[39m/\u001b[39m np\u001b[39m.\u001b[39msum(p_matrix, axis \u001b[39m=\u001b[39m \u001b[39m1\u001b[39m, keepdims\u001b[39m=\u001b[39m\u001b[39mTrue\u001b[39;00m)\n\u001b[0;32m     <a href='vscode-notebook-cell:/c%3A/Users/tutha/Desktop/Personal%20Project/DynamicallyUpdated-Expectation-Maximization-Algorithm/DynamicallyUpdated_EM.ipynb#X23sZmlsZQ%3D%3D?line=22'>23</a>\u001b[0m         predicted_weights_dynamic \u001b[39m=\u001b[39m (\u001b[39m1\u001b[39m\u001b[39m/\u001b[39mn) \u001b[39m*\u001b[39m np\u001b[39m.\u001b[39msum(p_matrix, axis \u001b[39m=\u001b[39m \u001b[39m0\u001b[39m) \u001b[39m+\u001b[39m predicted_weights_dynamic\n",
      "\u001b[1;32mc:\\Users\\tutha\\Desktop\\Personal Project\\DynamicallyUpdated-Expectation-Maximization-Algorithm\\DynamicallyUpdated_EM.ipynb Cell 19\u001b[0m in \u001b[0;36mcalculate_p_matrix\u001b[1;34m(x, input_mean, input_var, input_weight)\u001b[0m\n\u001b[0;32m      <a href='vscode-notebook-cell:/c%3A/Users/tutha/Desktop/Personal%20Project/DynamicallyUpdated-Expectation-Maximization-Algorithm/DynamicallyUpdated_EM.ipynb#X23sZmlsZQ%3D%3D?line=2'>3</a>\u001b[0m \u001b[39mdef\u001b[39;00m \u001b[39mcalculate_p_matrix\u001b[39m(x, input_mean, input_var, input_weight):\n\u001b[0;32m      <a href='vscode-notebook-cell:/c%3A/Users/tutha/Desktop/Personal%20Project/DynamicallyUpdated-Expectation-Maximization-Algorithm/DynamicallyUpdated_EM.ipynb#X23sZmlsZQ%3D%3D?line=3'>4</a>\u001b[0m     \u001b[39m# Duplicate data so dimensions work out\u001b[39;00m\n\u001b[0;32m      <a href='vscode-notebook-cell:/c%3A/Users/tutha/Desktop/Personal%20Project/DynamicallyUpdated-Expectation-Maximization-Algorithm/DynamicallyUpdated_EM.ipynb#X23sZmlsZQ%3D%3D?line=4'>5</a>\u001b[0m     mean_matrix \u001b[39m=\u001b[39m np\u001b[39m.\u001b[39mtile(input_mean, (\u001b[39mlen\u001b[39m(x), \u001b[39m1\u001b[39m))\u001b[39m.\u001b[39mT\n\u001b[1;32m----> <a href='vscode-notebook-cell:/c%3A/Users/tutha/Desktop/Personal%20Project/DynamicallyUpdated-Expectation-Maximization-Algorithm/DynamicallyUpdated_EM.ipynb#X23sZmlsZQ%3D%3D?line=5'>6</a>\u001b[0m     variance_matrix \u001b[39m=\u001b[39m np\u001b[39m.\u001b[39;49mtile(input_var, (\u001b[39mlen\u001b[39;49m(x), \u001b[39m1\u001b[39;49m))\u001b[39m.\u001b[39mT\n\u001b[0;32m      <a href='vscode-notebook-cell:/c%3A/Users/tutha/Desktop/Personal%20Project/DynamicallyUpdated-Expectation-Maximization-Algorithm/DynamicallyUpdated_EM.ipynb#X23sZmlsZQ%3D%3D?line=6'>7</a>\u001b[0m     weight_matrix \u001b[39m=\u001b[39m np\u001b[39m.\u001b[39mtile(input_weight, (\u001b[39mlen\u001b[39m(x), \u001b[39m1\u001b[39m))\u001b[39m.\u001b[39mT\n\u001b[0;32m      <a href='vscode-notebook-cell:/c%3A/Users/tutha/Desktop/Personal%20Project/DynamicallyUpdated-Expectation-Maximization-Algorithm/DynamicallyUpdated_EM.ipynb#X23sZmlsZQ%3D%3D?line=8'>9</a>\u001b[0m     \u001b[39m# PDF calculation\u001b[39;00m\n",
      "File \u001b[1;32m<__array_function__ internals>:180\u001b[0m, in \u001b[0;36mtile\u001b[1;34m(*args, **kwargs)\u001b[0m\n",
      "File \u001b[1;32mc:\\Users\\tutha\\AppData\\Local\\Programs\\Python\\Python310\\lib\\site-packages\\numpy\\lib\\shape_base.py:1266\u001b[0m, in \u001b[0;36mtile\u001b[1;34m(A, reps)\u001b[0m\n\u001b[0;32m   1262\u001b[0m d \u001b[39m=\u001b[39m \u001b[39mlen\u001b[39m(tup)\n\u001b[0;32m   1263\u001b[0m \u001b[39mif\u001b[39;00m \u001b[39mall\u001b[39m(x \u001b[39m==\u001b[39m \u001b[39m1\u001b[39m \u001b[39mfor\u001b[39;00m x \u001b[39min\u001b[39;00m tup) \u001b[39mand\u001b[39;00m \u001b[39misinstance\u001b[39m(A, _nx\u001b[39m.\u001b[39mndarray):\n\u001b[0;32m   1264\u001b[0m     \u001b[39m# Fixes the problem that the function does not make a copy if A is a\u001b[39;00m\n\u001b[0;32m   1265\u001b[0m     \u001b[39m# numpy array and the repetitions are 1 in all dimensions\u001b[39;00m\n\u001b[1;32m-> 1266\u001b[0m     \u001b[39mreturn\u001b[39;00m _nx\u001b[39m.\u001b[39;49marray(A, copy\u001b[39m=\u001b[39;49m\u001b[39mTrue\u001b[39;49;00m, subok\u001b[39m=\u001b[39;49m\u001b[39mTrue\u001b[39;49;00m, ndmin\u001b[39m=\u001b[39;49md)\n\u001b[0;32m   1267\u001b[0m \u001b[39melse\u001b[39;00m:\n\u001b[0;32m   1268\u001b[0m     \u001b[39m# Note that no copy of zero-sized arrays is made. However since they\u001b[39;00m\n\u001b[0;32m   1269\u001b[0m     \u001b[39m# have no data there is no risk of an inadvertent overwrite.\u001b[39;00m\n\u001b[0;32m   1270\u001b[0m     c \u001b[39m=\u001b[39m _nx\u001b[39m.\u001b[39marray(A, copy\u001b[39m=\u001b[39m\u001b[39mFalse\u001b[39;00m, subok\u001b[39m=\u001b[39m\u001b[39mTrue\u001b[39;00m, ndmin\u001b[39m=\u001b[39md)\n",
      "\u001b[1;31mKeyboardInterrupt\u001b[0m: "
     ]
    }
   ],
   "source": [
    "predicted_mean_dynamic = np.random.uniform(low=-5, high=5, size=(k, ))\n",
    "predicted_variance_dynamic = np.random.uniform(low=0.5, high=5, size=(k, ))\n",
    "predicted_weights_dynamic = np.random.random(size=(k, ))\n",
    "predicted_weights_dynamic = predicted_weights_dynamic / np.sum(predicted_weights_dynamic) \n",
    "def dynamicEM():\n",
    "    global predicted_mean_dynamic, predicted_variance_dynamic, predicted_weights_dynamic\n",
    "    divergence_plot = [] # Array for plotting later\n",
    "    counter = 0 # Count iteration for printing divergence\n",
    "    \n",
    "    KL_divergence = KL_div(predicted_mean_dynamic, predicted_variance_dynamic, predicted_weights_dynamic)\n",
    "    print(\"kl div:\", KL_divergence)\n",
    "    prev_divergence = math.inf\n",
    "    \n",
    "    stepsize = 0.001\n",
    "\n",
    "    while True:#prev_divergence - KL_divergence > 0.0001 and KL_divergence > 0:\n",
    "        \n",
    "        for i in range(n):\n",
    "            p_matrix = calculate_p_matrix(np.array([data[i]]), predicted_mean_dynamic, predicted_variance_dynamic, predicted_weights_dynamic)\n",
    "            p_matrix = p_matrix / np.sum(p_matrix, axis = 1, keepdims=True)\n",
    "           \n",
    "\n",
    "            predicted_weights_dynamic = (1/n) * np.sum(p_matrix, axis = 0) + predicted_weights_dynamic\n",
    "            \n",
    "            predicted_mean_dynamic = stepsize * p_matrix * data[i] + predicted_mean_dynamic\n",
    "\n",
    "            predicted_variance_dynamic = stepsize * p_matrix * np.power(predicted_mean_dynamic - data[i], 2) + predicted_variance_dynamic\n",
    "            \n",
    "            \n",
    "        KL_divergence = KL_div(predicted_mean_dynamic, predicted_variance_dynamic, predicted_weights_dynamic)\n",
    "        \n",
    "        diff = prev_divergence - KL_divergence\n",
    "        prev_divergence = KL_divergence\n",
    "        \n",
    "        if counter % 1 == 0:\n",
    "            print(\"kl div:\", KL_divergence, \" |  iter:\", counter, \" |  difference vs the prev iter:\", diff)\n",
    "            \n",
    "            \n",
    "        divergence_plot.append(KL_divergence)\n",
    "        counter += 1\n",
    "    return divergence_plot\n",
    "\n",
    "\n",
    "divergence_plot = dynamicEM()"
   ]
  }
 ],
 "metadata": {
  "kernelspec": {
   "display_name": "Python 3",
   "language": "python",
   "name": "python3"
  },
  "language_info": {
   "codemirror_mode": {
    "name": "ipython",
    "version": 3
   },
   "file_extension": ".py",
   "mimetype": "text/x-python",
   "name": "python",
   "nbconvert_exporter": "python",
   "pygments_lexer": "ipython3",
   "version": "3.10.2"
  },
  "orig_nbformat": 4,
  "vscode": {
   "interpreter": {
    "hash": "7e145918ee62325bb783ae69933f229276b5458d89ab4d949d12da7376064d41"
   }
  }
 },
 "nbformat": 4,
 "nbformat_minor": 2
}
